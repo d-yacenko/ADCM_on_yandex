{
  "nbformat": 4,
  "nbformat_minor": 0,
  "metadata": {
    "kernelspec": {
      "display_name": "Python 3",
      "language": "python",
      "name": "python3"
    },
    "language_info": {
      "codemirror_mode": {
        "name": "ipython",
        "version": 3
      },
      "file_extension": ".py",
      "mimetype": "text/x-python",
      "name": "python",
      "nbconvert_exporter": "python",
      "pygments_lexer": "ipython3",
      "version": "3.6.9"
    },
    "latex_envs": {
      "LaTeX_envs_menu_present": true,
      "autoclose": false,
      "autocomplete": true,
      "bibliofile": "biblio.bib",
      "cite_by": "apalike",
      "current_citInitial": 1,
      "eqLabelWithNumbers": true,
      "eqNumInitial": 1,
      "hotkeys": {
        "equation": "Ctrl-E",
        "itemize": "Ctrl-I"
      },
      "labels_anchors": false,
      "latex_user_defs": false,
      "report_style_numbering": false,
      "user_envs_cfg": false
    },
    "toc": {
      "base_numbering": 1,
      "nav_menu": {},
      "number_sections": true,
      "sideBar": true,
      "skip_h1_title": false,
      "title_cell": "Table of Contents",
      "title_sidebar": "Contents",
      "toc_cell": false,
      "toc_position": {},
      "toc_section_display": true,
      "toc_window_display": true
    },
    "colab": {
      "name": "network1_1_tfidf.ipynb",
      "provenance": [],
      "include_colab_link": true
    },
    "accelerator": "GPU"
  },
  "cells": [
    {
      "cell_type": "markdown",
      "metadata": {
        "id": "view-in-github",
        "colab_type": "text"
      },
      "source": [
        "<a href=\"https://colab.research.google.com/github/d-yacenko/ADCM_on_yandex/blob/main/network1_1_tfidf.ipynb\" target=\"_parent\"><img src=\"https://colab.research.google.com/assets/colab-badge.svg\" alt=\"Open In Colab\"/></a>"
      ]
    },
    {
      "cell_type": "markdown",
      "metadata": {
        "id": "a6NXaL_cyJ8n"
      },
      "source": [
        "# Тематическая классификация длинных текстов - TFIDF и LogReg"
      ]
    },
    {
      "cell_type": "code",
      "metadata": {
        "colab": {
          "base_uri": "https://localhost:8080/"
        },
        "id": "i2tHlk9CyJ8v",
        "outputId": "b8f0a721-2fbb-463b-8def-ab8f3b79880e"
      },
      "source": [
        "# Если Вы запускаете ноутбук на colab или kaggle,\n",
        "# выполните следующие строчки, чтобы подгрузить библиотеку dlnlputils:\n",
        "\n",
        "!git clone https://github.com/Samsung-IT-Academy/stepik-dl-nlp.git && pip install -r stepik-dl-nlp/requirements.txt\n",
        "import sys; sys.path.append('./stepik-dl-nlp')"
      ],
      "execution_count": 1,
      "outputs": [
        {
          "output_type": "stream",
          "name": "stdout",
          "text": [
            "Cloning into 'stepik-dl-nlp'...\n",
            "remote: Enumerating objects: 289, done.\u001b[K\n",
            "remote: Counting objects: 100% (23/23), done.\u001b[K\n",
            "remote: Compressing objects: 100% (17/17), done.\u001b[K\n",
            "remote: Total 289 (delta 10), reused 14 (delta 6), pack-reused 266\u001b[K\n",
            "Receiving objects: 100% (289/289), 42.27 MiB | 20.19 MiB/s, done.\n",
            "Resolving deltas: 100% (139/139), done.\n",
            "Requirement already satisfied: scikit-learn in /usr/local/lib/python3.7/dist-packages (from -r stepik-dl-nlp/requirements.txt (line 1)) (1.0.1)\n",
            "Collecting spacy-udpipe\n",
            "  Downloading spacy_udpipe-1.0.0-py3-none-any.whl (11 kB)\n",
            "Collecting pymorphy2\n",
            "  Downloading pymorphy2-0.9.1-py3-none-any.whl (55 kB)\n",
            "\u001b[K     |████████████████████████████████| 55 kB 3.5 MB/s \n",
            "\u001b[?25hRequirement already satisfied: torch>=1.2 in /usr/local/lib/python3.7/dist-packages (from -r stepik-dl-nlp/requirements.txt (line 4)) (1.10.0+cu111)\n",
            "Requirement already satisfied: matplotlib in /usr/local/lib/python3.7/dist-packages (from -r stepik-dl-nlp/requirements.txt (line 5)) (3.2.2)\n",
            "Collecting ipymarkup\n",
            "  Downloading ipymarkup-0.9.0-py3-none-any.whl (14 kB)\n",
            "Requirement already satisfied: lxml in /usr/local/lib/python3.7/dist-packages (from -r stepik-dl-nlp/requirements.txt (line 7)) (4.2.6)\n",
            "Requirement already satisfied: scipy in /usr/local/lib/python3.7/dist-packages (from -r stepik-dl-nlp/requirements.txt (line 8)) (1.4.1)\n",
            "Requirement already satisfied: pandas in /usr/local/lib/python3.7/dist-packages (from -r stepik-dl-nlp/requirements.txt (line 9)) (1.1.5)\n",
            "Requirement already satisfied: tqdm in /usr/local/lib/python3.7/dist-packages (from -r stepik-dl-nlp/requirements.txt (line 10)) (4.62.3)\n",
            "Collecting youtokentome\n",
            "  Downloading youtokentome-1.0.6-cp37-cp37m-manylinux2010_x86_64.whl (1.7 MB)\n",
            "\u001b[K     |████████████████████████████████| 1.7 MB 10.3 MB/s \n",
            "\u001b[?25hRequirement already satisfied: seaborn in /usr/local/lib/python3.7/dist-packages (from -r stepik-dl-nlp/requirements.txt (line 12)) (0.11.2)\n",
            "Requirement already satisfied: ipykernel in /usr/local/lib/python3.7/dist-packages (from -r stepik-dl-nlp/requirements.txt (line 13)) (4.10.1)\n",
            "Requirement already satisfied: ipython in /usr/local/lib/python3.7/dist-packages (from -r stepik-dl-nlp/requirements.txt (line 14)) (5.5.0)\n",
            "Collecting pyconll\n",
            "  Downloading pyconll-3.1.0-py3-none-any.whl (26 kB)\n",
            "Collecting gensim==3.8.1\n",
            "  Downloading gensim-3.8.1-cp37-cp37m-manylinux1_x86_64.whl (24.2 MB)\n",
            "\u001b[K     |████████████████████████████████| 24.2 MB 1.5 MB/s \n",
            "\u001b[?25hCollecting wget\n",
            "  Downloading wget-3.2.zip (10 kB)\n",
            "Collecting livelossplot==0.5.3\n",
            "  Downloading livelossplot-0.5.3-py3-none-any.whl (30 kB)\n",
            "Requirement already satisfied: six>=1.5.0 in /usr/local/lib/python3.7/dist-packages (from gensim==3.8.1->-r stepik-dl-nlp/requirements.txt (line 16)) (1.15.0)\n",
            "Requirement already satisfied: numpy>=1.11.3 in /usr/local/lib/python3.7/dist-packages (from gensim==3.8.1->-r stepik-dl-nlp/requirements.txt (line 16)) (1.19.5)\n",
            "Requirement already satisfied: smart-open>=1.8.1 in /usr/local/lib/python3.7/dist-packages (from gensim==3.8.1->-r stepik-dl-nlp/requirements.txt (line 16)) (5.2.1)\n",
            "Requirement already satisfied: bokeh in /usr/local/lib/python3.7/dist-packages (from livelossplot==0.5.3->-r stepik-dl-nlp/requirements.txt (line 18)) (2.3.3)\n",
            "Requirement already satisfied: typing-extensions in /usr/local/lib/python3.7/dist-packages (from torch>=1.2->-r stepik-dl-nlp/requirements.txt (line 4)) (3.10.0.2)\n",
            "Requirement already satisfied: threadpoolctl>=2.0.0 in /usr/local/lib/python3.7/dist-packages (from scikit-learn->-r stepik-dl-nlp/requirements.txt (line 1)) (3.0.0)\n",
            "Requirement already satisfied: joblib>=0.11 in /usr/local/lib/python3.7/dist-packages (from scikit-learn->-r stepik-dl-nlp/requirements.txt (line 1)) (1.1.0)\n",
            "Collecting ufal.udpipe>=1.2.0\n",
            "  Downloading ufal.udpipe-1.2.0.3.tar.gz (304 kB)\n",
            "\u001b[K     |████████████████████████████████| 304 kB 60.0 MB/s \n",
            "\u001b[?25hCollecting spacy<4.0.0,>=3.0.0\n",
            "  Downloading spacy-3.2.1-cp37-cp37m-manylinux_2_17_x86_64.manylinux2014_x86_64.whl (6.0 MB)\n",
            "\u001b[K     |████████████████████████████████| 6.0 MB 72.3 MB/s \n",
            "\u001b[?25hCollecting catalogue<2.1.0,>=2.0.6\n",
            "  Downloading catalogue-2.0.6-py3-none-any.whl (17 kB)\n",
            "Requirement already satisfied: jinja2 in /usr/local/lib/python3.7/dist-packages (from spacy<4.0.0,>=3.0.0->spacy-udpipe->-r stepik-dl-nlp/requirements.txt (line 2)) (2.11.3)\n",
            "Collecting pydantic!=1.8,!=1.8.1,<1.9.0,>=1.7.4\n",
            "  Downloading pydantic-1.8.2-cp37-cp37m-manylinux2014_x86_64.whl (10.1 MB)\n",
            "\u001b[K     |████████████████████████████████| 10.1 MB 77.3 MB/s \n",
            "\u001b[?25hCollecting typer<0.5.0,>=0.3.0\n",
            "  Downloading typer-0.4.0-py3-none-any.whl (27 kB)\n",
            "Requirement already satisfied: preshed<3.1.0,>=3.0.2 in /usr/local/lib/python3.7/dist-packages (from spacy<4.0.0,>=3.0.0->spacy-udpipe->-r stepik-dl-nlp/requirements.txt (line 2)) (3.0.6)\n",
            "Collecting spacy-legacy<3.1.0,>=3.0.8\n",
            "  Downloading spacy_legacy-3.0.8-py2.py3-none-any.whl (14 kB)\n",
            "Collecting srsly<3.0.0,>=2.4.1\n",
            "  Downloading srsly-2.4.2-cp37-cp37m-manylinux_2_17_x86_64.manylinux2014_x86_64.whl (451 kB)\n",
            "\u001b[K     |████████████████████████████████| 451 kB 41.3 MB/s \n",
            "\u001b[?25hRequirement already satisfied: requests<3.0.0,>=2.13.0 in /usr/local/lib/python3.7/dist-packages (from spacy<4.0.0,>=3.0.0->spacy-udpipe->-r stepik-dl-nlp/requirements.txt (line 2)) (2.23.0)\n",
            "Requirement already satisfied: wasabi<1.1.0,>=0.8.1 in /usr/local/lib/python3.7/dist-packages (from spacy<4.0.0,>=3.0.0->spacy-udpipe->-r stepik-dl-nlp/requirements.txt (line 2)) (0.8.2)\n",
            "Collecting langcodes<4.0.0,>=3.2.0\n",
            "  Downloading langcodes-3.3.0-py3-none-any.whl (181 kB)\n",
            "\u001b[K     |████████████████████████████████| 181 kB 79.0 MB/s \n",
            "\u001b[?25hRequirement already satisfied: packaging>=20.0 in /usr/local/lib/python3.7/dist-packages (from spacy<4.0.0,>=3.0.0->spacy-udpipe->-r stepik-dl-nlp/requirements.txt (line 2)) (21.3)\n",
            "Requirement already satisfied: murmurhash<1.1.0,>=0.28.0 in /usr/local/lib/python3.7/dist-packages (from spacy<4.0.0,>=3.0.0->spacy-udpipe->-r stepik-dl-nlp/requirements.txt (line 2)) (1.0.6)\n",
            "Requirement already satisfied: blis<0.8.0,>=0.4.0 in /usr/local/lib/python3.7/dist-packages (from spacy<4.0.0,>=3.0.0->spacy-udpipe->-r stepik-dl-nlp/requirements.txt (line 2)) (0.4.1)\n",
            "Requirement already satisfied: cymem<2.1.0,>=2.0.2 in /usr/local/lib/python3.7/dist-packages (from spacy<4.0.0,>=3.0.0->spacy-udpipe->-r stepik-dl-nlp/requirements.txt (line 2)) (2.0.6)\n",
            "Collecting pathy>=0.3.5\n",
            "  Downloading pathy-0.6.1-py3-none-any.whl (42 kB)\n",
            "\u001b[K     |████████████████████████████████| 42 kB 2.0 MB/s \n",
            "\u001b[?25hRequirement already satisfied: setuptools in /usr/local/lib/python3.7/dist-packages (from spacy<4.0.0,>=3.0.0->spacy-udpipe->-r stepik-dl-nlp/requirements.txt (line 2)) (57.4.0)\n",
            "Collecting thinc<8.1.0,>=8.0.12\n",
            "  Downloading thinc-8.0.13-cp37-cp37m-manylinux_2_17_x86_64.manylinux2014_x86_64.whl (628 kB)\n",
            "\u001b[K     |████████████████████████████████| 628 kB 71.9 MB/s \n",
            "\u001b[?25hCollecting spacy-loggers<2.0.0,>=1.0.0\n",
            "  Downloading spacy_loggers-1.0.1-py3-none-any.whl (7.0 kB)\n",
            "Requirement already satisfied: zipp>=0.5 in /usr/local/lib/python3.7/dist-packages (from catalogue<2.1.0,>=2.0.6->spacy<4.0.0,>=3.0.0->spacy-udpipe->-r stepik-dl-nlp/requirements.txt (line 2)) (3.6.0)\n",
            "Requirement already satisfied: pyparsing!=3.0.5,>=2.0.2 in /usr/local/lib/python3.7/dist-packages (from packaging>=20.0->spacy<4.0.0,>=3.0.0->spacy-udpipe->-r stepik-dl-nlp/requirements.txt (line 2)) (3.0.6)\n",
            "Requirement already satisfied: idna<3,>=2.5 in /usr/local/lib/python3.7/dist-packages (from requests<3.0.0,>=2.13.0->spacy<4.0.0,>=3.0.0->spacy-udpipe->-r stepik-dl-nlp/requirements.txt (line 2)) (2.10)\n",
            "Requirement already satisfied: urllib3!=1.25.0,!=1.25.1,<1.26,>=1.21.1 in /usr/local/lib/python3.7/dist-packages (from requests<3.0.0,>=2.13.0->spacy<4.0.0,>=3.0.0->spacy-udpipe->-r stepik-dl-nlp/requirements.txt (line 2)) (1.24.3)\n",
            "Requirement already satisfied: certifi>=2017.4.17 in /usr/local/lib/python3.7/dist-packages (from requests<3.0.0,>=2.13.0->spacy<4.0.0,>=3.0.0->spacy-udpipe->-r stepik-dl-nlp/requirements.txt (line 2)) (2021.10.8)\n",
            "Requirement already satisfied: chardet<4,>=3.0.2 in /usr/local/lib/python3.7/dist-packages (from requests<3.0.0,>=2.13.0->spacy<4.0.0,>=3.0.0->spacy-udpipe->-r stepik-dl-nlp/requirements.txt (line 2)) (3.0.4)\n",
            "Requirement already satisfied: click<9.0.0,>=7.1.1 in /usr/local/lib/python3.7/dist-packages (from typer<0.5.0,>=0.3.0->spacy<4.0.0,>=3.0.0->spacy-udpipe->-r stepik-dl-nlp/requirements.txt (line 2)) (7.1.2)\n",
            "Collecting dawg-python>=0.7.1\n",
            "  Downloading DAWG_Python-0.7.2-py2.py3-none-any.whl (11 kB)\n",
            "Collecting pymorphy2-dicts-ru<3.0,>=2.4\n",
            "  Downloading pymorphy2_dicts_ru-2.4.417127.4579844-py2.py3-none-any.whl (8.2 MB)\n",
            "\u001b[K     |████████████████████████████████| 8.2 MB 31.6 MB/s \n",
            "\u001b[?25hRequirement already satisfied: docopt>=0.6 in /usr/local/lib/python3.7/dist-packages (from pymorphy2->-r stepik-dl-nlp/requirements.txt (line 3)) (0.6.2)\n",
            "Requirement already satisfied: python-dateutil>=2.1 in /usr/local/lib/python3.7/dist-packages (from matplotlib->-r stepik-dl-nlp/requirements.txt (line 5)) (2.8.2)\n",
            "Requirement already satisfied: cycler>=0.10 in /usr/local/lib/python3.7/dist-packages (from matplotlib->-r stepik-dl-nlp/requirements.txt (line 5)) (0.11.0)\n",
            "Requirement already satisfied: kiwisolver>=1.0.1 in /usr/local/lib/python3.7/dist-packages (from matplotlib->-r stepik-dl-nlp/requirements.txt (line 5)) (1.3.2)\n",
            "Collecting intervaltree>=3\n",
            "  Downloading intervaltree-3.1.0.tar.gz (32 kB)\n",
            "Requirement already satisfied: sortedcontainers<3.0,>=2.0 in /usr/local/lib/python3.7/dist-packages (from intervaltree>=3->ipymarkup->-r stepik-dl-nlp/requirements.txt (line 6)) (2.4.0)\n",
            "Requirement already satisfied: pytz>=2017.2 in /usr/local/lib/python3.7/dist-packages (from pandas->-r stepik-dl-nlp/requirements.txt (line 9)) (2018.9)\n",
            "Requirement already satisfied: tornado>=4.0 in /usr/local/lib/python3.7/dist-packages (from ipykernel->-r stepik-dl-nlp/requirements.txt (line 13)) (5.1.1)\n",
            "Requirement already satisfied: jupyter-client in /usr/local/lib/python3.7/dist-packages (from ipykernel->-r stepik-dl-nlp/requirements.txt (line 13)) (5.3.5)\n",
            "Requirement already satisfied: traitlets>=4.1.0 in /usr/local/lib/python3.7/dist-packages (from ipykernel->-r stepik-dl-nlp/requirements.txt (line 13)) (5.1.1)\n",
            "Requirement already satisfied: decorator in /usr/local/lib/python3.7/dist-packages (from ipython->-r stepik-dl-nlp/requirements.txt (line 14)) (4.4.2)\n",
            "Requirement already satisfied: pickleshare in /usr/local/lib/python3.7/dist-packages (from ipython->-r stepik-dl-nlp/requirements.txt (line 14)) (0.7.5)\n",
            "Requirement already satisfied: pexpect in /usr/local/lib/python3.7/dist-packages (from ipython->-r stepik-dl-nlp/requirements.txt (line 14)) (4.8.0)\n",
            "Requirement already satisfied: pygments in /usr/local/lib/python3.7/dist-packages (from ipython->-r stepik-dl-nlp/requirements.txt (line 14)) (2.6.1)\n",
            "Requirement already satisfied: prompt-toolkit<2.0.0,>=1.0.4 in /usr/local/lib/python3.7/dist-packages (from ipython->-r stepik-dl-nlp/requirements.txt (line 14)) (1.0.18)\n",
            "Requirement already satisfied: simplegeneric>0.8 in /usr/local/lib/python3.7/dist-packages (from ipython->-r stepik-dl-nlp/requirements.txt (line 14)) (0.8.1)\n",
            "Requirement already satisfied: wcwidth in /usr/local/lib/python3.7/dist-packages (from prompt-toolkit<2.0.0,>=1.0.4->ipython->-r stepik-dl-nlp/requirements.txt (line 14)) (0.2.5)\n",
            "Requirement already satisfied: PyYAML>=3.10 in /usr/local/lib/python3.7/dist-packages (from bokeh->livelossplot==0.5.3->-r stepik-dl-nlp/requirements.txt (line 18)) (3.13)\n",
            "Requirement already satisfied: pillow>=7.1.0 in /usr/local/lib/python3.7/dist-packages (from bokeh->livelossplot==0.5.3->-r stepik-dl-nlp/requirements.txt (line 18)) (7.1.2)\n",
            "Requirement already satisfied: MarkupSafe>=0.23 in /usr/local/lib/python3.7/dist-packages (from jinja2->spacy<4.0.0,>=3.0.0->spacy-udpipe->-r stepik-dl-nlp/requirements.txt (line 2)) (2.0.1)\n",
            "Requirement already satisfied: pyzmq>=13 in /usr/local/lib/python3.7/dist-packages (from jupyter-client->ipykernel->-r stepik-dl-nlp/requirements.txt (line 13)) (22.3.0)\n",
            "Requirement already satisfied: jupyter-core>=4.6.0 in /usr/local/lib/python3.7/dist-packages (from jupyter-client->ipykernel->-r stepik-dl-nlp/requirements.txt (line 13)) (4.9.1)\n",
            "Requirement already satisfied: ptyprocess>=0.5 in /usr/local/lib/python3.7/dist-packages (from pexpect->ipython->-r stepik-dl-nlp/requirements.txt (line 14)) (0.7.0)\n",
            "Building wheels for collected packages: ufal.udpipe, intervaltree, wget\n",
            "  Building wheel for ufal.udpipe (setup.py) ... \u001b[?25l\u001b[?25hdone\n",
            "  Created wheel for ufal.udpipe: filename=ufal.udpipe-1.2.0.3-cp37-cp37m-linux_x86_64.whl size=5626643 sha256=7b2f3e574f6330af5b9dfbf957ed0e79377dcc0b657f168cd9a4a705b687fcee\n",
            "  Stored in directory: /root/.cache/pip/wheels/b8/b5/8e/3da091629a21ce2d10bf90759d0cb034ba10a5cf7a01e83d64\n",
            "  Building wheel for intervaltree (setup.py) ... \u001b[?25l\u001b[?25hdone\n",
            "  Created wheel for intervaltree: filename=intervaltree-3.1.0-py2.py3-none-any.whl size=26119 sha256=e013c37bb6e6968c19b8c5bae337bc51731e8b57a6cba1e83f603d1ddcd78304\n",
            "  Stored in directory: /root/.cache/pip/wheels/16/85/bd/1001cbb46dcfb71c2001cd7401c6fb250392f22a81ce3722f7\n",
            "  Building wheel for wget (setup.py) ... \u001b[?25l\u001b[?25hdone\n",
            "  Created wheel for wget: filename=wget-3.2-py3-none-any.whl size=9672 sha256=64dd8ef681ea2e94aec442c60cb82f6d5a959199fb8a0339fade0f6cabab463c\n",
            "  Stored in directory: /root/.cache/pip/wheels/a1/b6/7c/0e63e34eb06634181c63adacca38b79ff8f35c37e3c13e3c02\n",
            "Successfully built ufal.udpipe intervaltree wget\n",
            "Installing collected packages: catalogue, typer, srsly, pydantic, thinc, spacy-loggers, spacy-legacy, pathy, langcodes, ufal.udpipe, spacy, pymorphy2-dicts-ru, intervaltree, dawg-python, youtokentome, wget, spacy-udpipe, pymorphy2, pyconll, livelossplot, ipymarkup, gensim\n",
            "  Attempting uninstall: catalogue\n",
            "    Found existing installation: catalogue 1.0.0\n",
            "    Uninstalling catalogue-1.0.0:\n",
            "      Successfully uninstalled catalogue-1.0.0\n",
            "  Attempting uninstall: srsly\n",
            "    Found existing installation: srsly 1.0.5\n",
            "    Uninstalling srsly-1.0.5:\n",
            "      Successfully uninstalled srsly-1.0.5\n",
            "  Attempting uninstall: thinc\n",
            "    Found existing installation: thinc 7.4.0\n",
            "    Uninstalling thinc-7.4.0:\n",
            "      Successfully uninstalled thinc-7.4.0\n",
            "  Attempting uninstall: spacy\n",
            "    Found existing installation: spacy 2.2.4\n",
            "    Uninstalling spacy-2.2.4:\n",
            "      Successfully uninstalled spacy-2.2.4\n",
            "  Attempting uninstall: intervaltree\n",
            "    Found existing installation: intervaltree 2.1.0\n",
            "    Uninstalling intervaltree-2.1.0:\n",
            "      Successfully uninstalled intervaltree-2.1.0\n",
            "  Attempting uninstall: gensim\n",
            "    Found existing installation: gensim 3.6.0\n",
            "    Uninstalling gensim-3.6.0:\n",
            "      Successfully uninstalled gensim-3.6.0\n",
            "Successfully installed catalogue-2.0.6 dawg-python-0.7.2 gensim-3.8.1 intervaltree-3.1.0 ipymarkup-0.9.0 langcodes-3.3.0 livelossplot-0.5.3 pathy-0.6.1 pyconll-3.1.0 pydantic-1.8.2 pymorphy2-0.9.1 pymorphy2-dicts-ru-2.4.417127.4579844 spacy-3.2.1 spacy-legacy-3.0.8 spacy-loggers-1.0.1 spacy-udpipe-1.0.0 srsly-2.4.2 thinc-8.0.13 typer-0.4.0 ufal.udpipe-1.2.0.3 wget-3.2 youtokentome-1.0.6\n"
          ]
        }
      ]
    },
    {
      "cell_type": "code",
      "source": [
        "#!rm -rf ./stepik-dl-nlp"
      ],
      "metadata": {
        "id": "rWXdmf13ZXdK"
      },
      "execution_count": 2,
      "outputs": []
    },
    {
      "cell_type": "code",
      "metadata": {
        "ExecuteTime": {
          "end_time": "2019-09-12T12:42:57.265628Z",
          "start_time": "2019-09-12T12:42:55.188211Z"
        },
        "id": "pb1KhHDdyJ8w"
      },
      "source": [
        "import warnings\n",
        "warnings.filterwarnings('ignore')\n",
        "\n",
        "from sklearn.datasets import fetch_20newsgroups\n",
        "from sklearn.metrics import accuracy_score\n",
        "\n",
        "import numpy as np\n",
        "\n",
        "import matplotlib.pyplot as plt\n",
        "%matplotlib inline\n",
        "\n",
        "import collections\n",
        "\n",
        "import torch\n",
        "from torch import nn\n",
        "from torch.nn import functional as F\n",
        "\n",
        "import dlnlputils\n",
        "from dlnlputils.data import tokenize_text_simple_regex, tokenize_corpus, build_vocabulary, \\\n",
        "    vectorize_texts, SparseFeaturesDataset\n",
        "from dlnlputils.pipeline import train_eval_loop, predict_with_model, init_random_seed\n",
        "\n",
        "init_random_seed()"
      ],
      "execution_count": 3,
      "outputs": []
    },
    {
      "cell_type": "markdown",
      "metadata": {
        "id": "JEHSOfWzyJ8x"
      },
      "source": [
        "## Предобработка текстов и подготовка признаков"
      ]
    },
    {
      "cell_type": "code",
      "metadata": {
        "ExecuteTime": {
          "end_time": "2019-09-12T12:42:57.847399Z",
          "start_time": "2019-09-12T12:42:57.268037Z"
        },
        "colab": {
          "base_uri": "https://localhost:8080/"
        },
        "id": "Xb3R8jnKyJ8x",
        "outputId": "2dd41074-b66a-428b-f655-7b9f33cf1853"
      },
      "source": [
        "train_source = fetch_20newsgroups(subset='train')\n",
        "test_source = fetch_20newsgroups(subset='test')\n",
        "\n",
        "print('Количество обучающих текстов', len(train_source['data']))\n",
        "print('Количество тестовых текстов', len(test_source['data']))\n",
        "print()\n",
        "print(train_source['data'][0].strip())\n",
        "\n",
        "print()\n",
        "print('Метка', train_source['target'][0])"
      ],
      "execution_count": 4,
      "outputs": [
        {
          "output_type": "stream",
          "name": "stdout",
          "text": [
            "Количество обучающих текстов 11314\n",
            "Количество тестовых текстов 7532\n",
            "\n",
            "From: lerxst@wam.umd.edu (where's my thing)\n",
            "Subject: WHAT car is this!?\n",
            "Nntp-Posting-Host: rac3.wam.umd.edu\n",
            "Organization: University of Maryland, College Park\n",
            "Lines: 15\n",
            "\n",
            " I was wondering if anyone out there could enlighten me on this car I saw\n",
            "the other day. It was a 2-door sports car, looked to be from the late 60s/\n",
            "early 70s. It was called a Bricklin. The doors were really small. In addition,\n",
            "the front bumper was separate from the rest of the body. This is \n",
            "all I know. If anyone can tellme a model name, engine specs, years\n",
            "of production, where this car is made, history, or whatever info you\n",
            "have on this funky looking car, please e-mail.\n",
            "\n",
            "Thanks,\n",
            "- IL\n",
            "   ---- brought to you by your neighborhood Lerxst ----\n",
            "\n",
            "Метка 7\n"
          ]
        }
      ]
    },
    {
      "cell_type": "markdown",
      "metadata": {
        "id": "RPhdaQxmyJ8y"
      },
      "source": [
        "### Подготовка признаков"
      ]
    },
    {
      "cell_type": "code",
      "metadata": {
        "ExecuteTime": {
          "end_time": "2019-09-12T12:43:00.294422Z",
          "start_time": "2019-09-12T12:42:57.849386Z"
        },
        "colab": {
          "base_uri": "https://localhost:8080/"
        },
        "id": "1Bo86LOuyJ8y",
        "outputId": "11adf7d6-7c86-4496-824b-d93c5e18a2d3"
      },
      "source": [
        "train_tokenized = tokenize_corpus(train_source['data'])\n",
        "test_tokenized = tokenize_corpus(test_source['data'])\n",
        "\n",
        "print(' '.join(train_tokenized[0]))"
      ],
      "execution_count": 5,
      "outputs": [
        {
          "output_type": "stream",
          "name": "stdout",
          "text": [
            "from lerxst where thing subject what this nntp posting host rac3 organization university maryland college park lines wondering anyone there could enlighten this other door sports looked from late early called bricklin doors were really small addition front bumper separate from rest body this know anyone tellme model name engine specs years production where this made history whatever info have this funky looking please mail thanks brought your neighborhood lerxst\n"
          ]
        }
      ]
    },
    {
      "cell_type": "code",
      "metadata": {
        "ExecuteTime": {
          "end_time": "2019-09-12T12:43:00.825372Z",
          "start_time": "2019-09-12T12:43:00.297392Z"
        },
        "colab": {
          "base_uri": "https://localhost:8080/"
        },
        "id": "v5d3EwvCyJ8z",
        "outputId": "81135ef4-2cf3-49eb-d7dc-efd1af76c209"
      },
      "source": [
        "MAX_DF = 0.8\n",
        "MIN_COUNT = 5\n",
        "vocabulary, word_doc_freq = build_vocabulary(train_tokenized, max_doc_freq=MAX_DF, min_count=MIN_COUNT)\n",
        "UNIQUE_WORDS_N = len(vocabulary)\n",
        "print('Количество уникальных токенов', UNIQUE_WORDS_N)\n",
        "print(list(vocabulary.items())[:10])"
      ],
      "execution_count": 6,
      "outputs": [
        {
          "output_type": "stream",
          "name": "stdout",
          "text": [
            "Количество уникальных токенов 21628\n",
            "[('that', 0), ('this', 1), ('have', 2), ('with', 3), ('writes', 4), ('article', 5), ('posting', 6), ('host', 7), ('nntp', 8), ('there', 9)]\n"
          ]
        }
      ]
    },
    {
      "cell_type": "code",
      "metadata": {
        "ExecuteTime": {
          "end_time": "2019-09-12T12:43:01.524600Z",
          "start_time": "2019-09-12T12:43:00.829107Z"
        },
        "colab": {
          "base_uri": "https://localhost:8080/",
          "height": 281
        },
        "id": "4ZNVQOxtyJ8z",
        "outputId": "7af22129-9dd4-4206-db8f-e6265062622e"
      },
      "source": [
        "plt.hist(word_doc_freq, bins=20)\n",
        "plt.title('Распределение относительных частот слов')\n",
        "plt.yscale('log');"
      ],
      "execution_count": 7,
      "outputs": [
        {
          "output_type": "display_data",
          "data": {
            "image/png": "[encoded data removed]",
            "text/plain": [
              "<Figure size 432x288 with 1 Axes>"
            ]
          },
          "metadata": {
            "needs_background": "light"
          }
        }
      ]
    },
    {
      "cell_type": "code",
      "metadata": {
        "ExecuteTime": {
          "end_time": "2019-09-12T12:44:16.094816Z",
          "start_time": "2019-09-12T12:43:01.526554Z"
        },
        "colab": {
          "base_uri": "https://localhost:8080/"
        },
        "id": "ETfc6jJyyJ80",
        "outputId": "edff9312-1c5a-4cb3-f154-d540cb2654cc"
      },
      "source": [
        "VECTORIZATION_MODE = 'tfidf'\n",
        "train_vectors = vectorize_texts(train_tokenized, vocabulary, word_doc_freq, mode=VECTORIZATION_MODE)\n",
        "test_vectors = vectorize_texts(test_tokenized, vocabulary, word_doc_freq, mode=VECTORIZATION_MODE)\n",
        "\n",
        "print('Размерность матрицы признаков обучающей выборки', train_vectors.shape)\n",
        "print('Размерность матрицы признаков тестовой выборки', test_vectors.shape)\n",
        "print()\n",
        "print('Количество ненулевых элементов в обучающей выборке', train_vectors.nnz)\n",
        "print('Процент заполненности матрицы признаков {:.2f}%'.format(train_vectors.nnz * 100 / (train_vectors.shape[0] * train_vectors.shape[1])))\n",
        "print()\n",
        "print('Количество ненулевых элементов в тестовой выборке', test_vectors.nnz)\n",
        "print('Процент заполненности матрицы признаков {:.2f}%'.format(test_vectors.nnz * 100 / (test_vectors.shape[0] * test_vectors.shape[1])))"
      ],
      "execution_count": 8,
      "outputs": [
        {
          "output_type": "stream",
          "name": "stdout",
          "text": [
            "Размерность матрицы признаков обучающей выборки (11314, 21628)\n",
            "Размерность матрицы признаков тестовой выборки (7532, 21628)\n",
            "\n",
            "Количество ненулевых элементов в обучающей выборке 1126792\n",
            "Процент заполненности матрицы признаков 0.46%\n",
            "\n",
            "Количество ненулевых элементов в тестовой выборке 721529\n",
            "Процент заполненности матрицы признаков 0.44%\n"
          ]
        }
      ]
    },
    {
      "cell_type": "code",
      "metadata": {
        "ExecuteTime": {
          "end_time": "2019-09-12T12:44:16.857114Z",
          "start_time": "2019-09-12T12:44:16.098773Z"
        },
        "colab": {
          "base_uri": "https://localhost:8080/",
          "height": 281
        },
        "id": "1ZBBns67yJ80",
        "outputId": "e5f6ee97-3f3a-4a8b-ba3f-11983ec8f37b"
      },
      "source": [
        "plt.hist(train_vectors.data, bins=20)\n",
        "plt.title('Распределение весов признаков')\n",
        "plt.yscale('log');"
      ],
      "execution_count": 9,
      "outputs": [
        {
          "output_type": "display_data",
          "data": {
            "image/png": "[encoded data removed]",
            "text/plain": [
              "<Figure size 432x288 with 1 Axes>"
            ]
          },
          "metadata": {
            "needs_background": "light"
          }
        }
      ]
    },
    {
      "cell_type": "markdown",
      "metadata": {
        "id": "08-g-4weyJ81"
      },
      "source": [
        "### Распределение классов"
      ]
    },
    {
      "cell_type": "code",
      "metadata": {
        "ExecuteTime": {
          "end_time": "2019-09-12T12:44:16.864960Z",
          "start_time": "2019-09-12T12:44:16.859476Z"
        },
        "colab": {
          "base_uri": "https://localhost:8080/"
        },
        "id": "W1szqIpGyJ81",
        "outputId": "b5085adb-e309-444c-bc94-6050a7960247"
      },
      "source": [
        "UNIQUE_LABELS_N = len(set(train_source['target']))\n",
        "print('Количество уникальных меток', UNIQUE_LABELS_N)"
      ],
      "execution_count": 10,
      "outputs": [
        {
          "output_type": "stream",
          "name": "stdout",
          "text": [
            "Количество уникальных меток 20\n"
          ]
        }
      ]
    },
    {
      "cell_type": "code",
      "metadata": {
        "ExecuteTime": {
          "end_time": "2019-09-12T12:44:17.106036Z",
          "start_time": "2019-09-12T12:44:16.867310Z"
        },
        "colab": {
          "base_uri": "https://localhost:8080/",
          "height": 281
        },
        "id": "tHBIKodzyJ81",
        "outputId": "d7bade10-792f-4e01-8033-3f1daa66e9d8"
      },
      "source": [
        "plt.hist(train_source['target'], bins=np.arange(0, 21))\n",
        "plt.title('Распределение меток в обучающей выборке');"
      ],
      "execution_count": 11,
      "outputs": [
        {
          "output_type": "display_data",
          "data": {
            "image/png": "[encoded data removed]",
            "text/plain": [
              "<Figure size 432x288 with 1 Axes>"
            ]
          },
          "metadata": {
            "needs_background": "light"
          }
        }
      ]
    },
    {
      "cell_type": "code",
      "metadata": {
        "ExecuteTime": {
          "end_time": "2019-09-12T12:44:17.312198Z",
          "start_time": "2019-09-12T12:44:17.109884Z"
        },
        "scrolled": true,
        "colab": {
          "base_uri": "https://localhost:8080/",
          "height": 281
        },
        "id": "xoCAUZubyJ82",
        "outputId": "f668ff6f-907a-48da-80ed-8f100d064022"
      },
      "source": [
        "plt.hist(test_source['target'], bins=np.arange(0, 21))\n",
        "plt.title('Распределение меток в тестовой выборке');"
      ],
      "execution_count": 12,
      "outputs": [
        {
          "output_type": "display_data",
          "data": {
            "image/png": "[encoded data removed]",
            "text/plain": [
              "<Figure size 432x288 with 1 Axes>"
            ]
          },
          "metadata": {
            "needs_background": "light"
          }
        }
      ]
    },
    {
      "cell_type": "markdown",
      "metadata": {
        "id": "Z1xRYBityJ82"
      },
      "source": [
        "### PyTorch Dataset"
      ]
    },
    {
      "cell_type": "code",
      "metadata": {
        "ExecuteTime": {
          "end_time": "2019-09-12T12:44:17.319292Z",
          "start_time": "2019-09-12T12:44:17.315074Z"
        },
        "id": "jDzUuJI-yJ82"
      },
      "source": [
        "train_dataset = SparseFeaturesDataset(train_vectors, train_source['target'])\n",
        "test_dataset = SparseFeaturesDataset(test_vectors, test_source['target'])"
      ],
      "execution_count": 13,
      "outputs": []
    },
    {
      "cell_type": "markdown",
      "metadata": {
        "id": "XgXFVYgbyJ83"
      },
      "source": [
        "## Обучение модели на PyTorch"
      ]
    },
    {
      "cell_type": "code",
      "metadata": {
        "ExecuteTime": {
          "end_time": "2019-09-12T12:46:22.371272Z",
          "start_time": "2019-09-12T12:44:17.322178Z"
        },
        "scrolled": false,
        "colab": {
          "base_uri": "https://localhost:8080/"
        },
        "id": "qoP18Kf0yJ83",
        "outputId": "702bb340-eaf9-4d1d-9a6e-31d535c5c628"
      },
      "source": [
        "model = nn.Linear(UNIQUE_WORDS_N, UNIQUE_LABELS_N)\n",
        "\n",
        "scheduler = lambda optim: \\\n",
        "    torch.optim.lr_scheduler.ReduceLROnPlateau(optim, patience=5, factor=0.5, verbose=True)\n",
        "\n",
        "best_val_loss, best_model = train_eval_loop(model=model,\n",
        "                                            train_dataset=train_dataset,\n",
        "                                            val_dataset=test_dataset,\n",
        "                                            criterion=F.cross_entropy,\n",
        "                                            lr=1e-1,\n",
        "                                            epoch_n=200,\n",
        "                                            batch_size=32,\n",
        "                                            l2_reg_alpha=0,\n",
        "                                            lr_scheduler_ctor=scheduler)"
      ],
      "execution_count": 14,
      "outputs": [
        {
          "output_type": "stream",
          "name": "stdout",
          "text": [
            "Эпоха 0\n",
            "Эпоха: 354 итераций, 1.84 сек\n",
            "Среднее значение функции потерь на обучении 2.2252577092014465\n",
            "Среднее значение функции потерь на валидации 2.1137005080611018\n",
            "Новая лучшая модель!\n",
            "\n",
            "Эпоха 1\n",
            "Эпоха: 354 итераций, 1.71 сек\n",
            "Среднее значение функции потерь на обучении 0.9165905559972182\n",
            "Среднее значение функции потерь на валидации 1.6821941975819863\n",
            "Новая лучшая модель!\n",
            "\n",
            "Эпоха 2\n",
            "Эпоха: 354 итераций, 1.72 сек\n",
            "Среднее значение функции потерь на обучении 0.4660171341929732\n",
            "Среднее значение функции потерь на валидации 1.4643894560256248\n",
            "Новая лучшая модель!\n",
            "\n",
            "Эпоха 3\n",
            "Эпоха: 354 итераций, 1.72 сек\n",
            "Среднее значение функции потерь на обучении 0.28363619441703214\n",
            "Среднее значение функции потерь на валидации 1.3450368339732541\n",
            "Новая лучшая модель!\n",
            "\n",
            "Эпоха 4\n",
            "Эпоха: 354 итераций, 1.69 сек\n",
            "Среднее значение функции потерь на обучении 0.19072452730546563\n",
            "Среднее значение функции потерь на валидации 1.2602415398015814\n",
            "Новая лучшая модель!\n",
            "\n",
            "Эпоха 5\n",
            "Эпоха: 354 итераций, 1.76 сек\n",
            "Среднее значение функции потерь на обучении 0.13643484603676756\n",
            "Среднее значение функции потерь на валидации 1.2005356093079358\n",
            "Новая лучшая модель!\n",
            "\n",
            "Эпоха 6\n",
            "Эпоха: 354 итераций, 1.72 сек\n",
            "Среднее значение функции потерь на обучении 0.10175169478196883\n",
            "Среднее значение функции потерь на валидации 1.1543824548943569\n",
            "Новая лучшая модель!\n",
            "\n",
            "Эпоха 7\n",
            "Эпоха: 354 итераций, 1.68 сек\n",
            "Среднее значение функции потерь на обучении 0.07793647780656646\n",
            "Среднее значение функции потерь на валидации 1.120970442891121\n",
            "Новая лучшая модель!\n",
            "\n",
            "Эпоха 8\n",
            "Эпоха: 354 итераций, 1.71 сек\n",
            "Среднее значение функции потерь на обучении 0.06176984164926965\n",
            "Среднее значение функции потерь на валидации 1.0886668328006388\n",
            "Новая лучшая модель!\n",
            "\n",
            "Эпоха 9\n",
            "Эпоха: 354 итераций, 1.69 сек\n",
            "Среднее значение функции потерь на обучении 0.04921777986810874\n",
            "Среднее значение функции потерь на валидации 1.057576457322654\n",
            "Новая лучшая модель!\n",
            "\n",
            "Эпоха 10\n",
            "Эпоха: 354 итераций, 1.71 сек\n",
            "Среднее значение функции потерь на обучении 0.040086807838330664\n",
            "Среднее значение функции потерь на валидации 1.052225625616009\n",
            "Новая лучшая модель!\n",
            "\n",
            "Эпоха 11\n",
            "Эпоха: 354 итераций, 1.69 сек\n",
            "Среднее значение функции потерь на обучении 0.03305452748985782\n",
            "Среднее значение функции потерь на валидации 1.0252113617577796\n",
            "Новая лучшая модель!\n",
            "\n",
            "Эпоха 12\n",
            "Эпоха: 354 итераций, 1.71 сек\n",
            "Среднее значение функции потерь на обучении 0.027422113833412275\n",
            "Среднее значение функции потерь на валидации 1.023395841404543\n",
            "Новая лучшая модель!\n",
            "\n",
            "Эпоха 13\n",
            "Эпоха: 354 итераций, 1.71 сек\n",
            "Среднее значение функции потерь на обучении 0.023065827776399036\n",
            "Среднее значение функции потерь на валидации 1.0005405017379987\n",
            "Новая лучшая модель!\n",
            "\n",
            "Эпоха 14\n",
            "Эпоха: 354 итераций, 1.71 сек\n",
            "Среднее значение функции потерь на обучении 0.01953014237990361\n",
            "Среднее значение функции потерь на валидации 0.9915592529005923\n",
            "Новая лучшая модель!\n",
            "\n",
            "Эпоха 15\n",
            "Эпоха: 354 итераций, 1.72 сек\n",
            "Среднее значение функции потерь на обучении 0.016497768644548657\n",
            "Среднее значение функции потерь на валидации 0.9758753584603131\n",
            "Новая лучшая модель!\n",
            "\n",
            "Эпоха 16\n",
            "Эпоха: 354 итераций, 1.70 сек\n",
            "Среднее значение функции потерь на обучении 0.013959747708223676\n",
            "Среднее значение функции потерь на валидации 0.9762111589059992\n",
            "\n",
            "Эпоха 17\n",
            "Эпоха: 354 итераций, 1.73 сек\n",
            "Среднее значение функции потерь на обучении 0.012367775781464231\n",
            "Среднее значение функции потерь на валидации 0.9614285815317752\n",
            "Новая лучшая модель!\n",
            "\n",
            "Эпоха 18\n",
            "Эпоха: 354 итераций, 1.71 сек\n",
            "Среднее значение функции потерь на обучении 0.010551428666343586\n",
            "Среднее значение функции потерь на валидации 0.9536921162221391\n",
            "Новая лучшая модель!\n",
            "\n",
            "Эпоха 19\n",
            "Эпоха: 354 итераций, 1.73 сек\n",
            "Среднее значение функции потерь на обучении 0.009276760425050296\n",
            "Среднее значение функции потерь на валидации 0.9553850797020783\n",
            "\n",
            "Эпоха 20\n",
            "Эпоха: 354 итераций, 1.75 сек\n",
            "Среднее значение функции потерь на обучении 0.008060236028027273\n",
            "Среднее значение функции потерь на валидации 0.9670789768382654\n",
            "\n",
            "Эпоха 21\n",
            "Эпоха: 354 итераций, 1.75 сек\n",
            "Среднее значение функции потерь на обучении 0.0073286487660397075\n",
            "Среднее значение функции потерь на валидации 0.9403573625673682\n",
            "Новая лучшая модель!\n",
            "\n",
            "Эпоха 22\n",
            "Эпоха: 354 итераций, 1.77 сек\n",
            "Среднее значение функции потерь на обучении 0.0067727457203160405\n",
            "Среднее значение функции потерь на валидации 0.9329052861716788\n",
            "Новая лучшая модель!\n",
            "\n",
            "Эпоха 23\n",
            "Эпоха: 354 итераций, 1.72 сек\n",
            "Среднее значение функции потерь на обучении 0.0055898260384387635\n",
            "Среднее значение функции потерь на валидации 0.9329799325284311\n",
            "\n",
            "Эпоха 24\n",
            "Эпоха: 354 итераций, 1.74 сек\n",
            "Среднее значение функции потерь на обучении 0.005256617142513689\n",
            "Среднее значение функции потерь на валидации 0.9690087678826461\n",
            "\n",
            "Эпоха 25\n",
            "Эпоха: 354 итераций, 1.74 сек\n",
            "Среднее значение функции потерь на обучении 0.004769209926582262\n",
            "Среднее значение функции потерь на валидации 0.9437577811590696\n",
            "\n",
            "Эпоха 26\n",
            "Эпоха: 354 итераций, 1.71 сек\n",
            "Среднее значение функции потерь на обучении 0.004408721350847696\n",
            "Среднее значение функции потерь на валидации 0.9343373438311835\n",
            "\n",
            "Эпоха 27\n",
            "Эпоха: 354 итераций, 1.76 сек\n",
            "Среднее значение функции потерь на обучении 0.0041215705940510425\n",
            "Среднее значение функции потерь на валидации 0.9609637771875171\n",
            "\n",
            "Эпоха 28\n",
            "Эпоха: 354 итераций, 1.71 сек\n",
            "Среднее значение функции потерь на обучении 0.0041649149539900185\n",
            "Среднее значение функции потерь на валидации 0.949871871430995\n",
            "Epoch    29: reducing learning rate of group 0 to 5.0000e-02.\n",
            "\n",
            "Эпоха 29\n",
            "Эпоха: 354 итераций, 1.72 сек\n",
            "Среднее значение функции потерь на обучении 0.00323205555547134\n",
            "Среднее значение функции потерь на валидации 0.9344258504146237\n",
            "\n",
            "Эпоха 30\n",
            "Эпоха: 354 итераций, 1.74 сек\n",
            "Среднее значение функции потерь на обучении 0.002957678795923705\n",
            "Среднее значение функции потерь на валидации 0.9424998594795243\n",
            "\n",
            "Эпоха 31\n",
            "Эпоха: 354 итераций, 1.75 сек\n",
            "Среднее значение функции потерь на обучении 0.002875186368019983\n",
            "Среднее значение функции потерь на валидации 0.9348596681730222\n",
            "\n",
            "Эпоха 32\n",
            "Эпоха: 354 итераций, 1.71 сек\n",
            "Среднее значение функции потерь на обучении 0.00260181471353231\n",
            "Среднее значение функции потерь на валидации 0.9306288124141047\n",
            "Новая лучшая модель!\n",
            "\n",
            "Эпоха 33\n",
            "Эпоха: 354 итераций, 1.69 сек\n",
            "Среднее значение функции потерь на обучении 0.0027132565316765195\n",
            "Среднее значение функции потерь на валидации 0.9447242404192181\n",
            "\n",
            "Эпоха 34\n",
            "Эпоха: 354 итераций, 1.70 сек\n",
            "Среднее значение функции потерь на обучении 0.0025347623856354106\n",
            "Среднее значение функции потерь на валидации 0.9425567949222307\n",
            "\n",
            "Эпоха 35\n",
            "Эпоха: 354 итераций, 1.72 сек\n",
            "Среднее значение функции потерь на обучении 0.002610655799018098\n",
            "Среднее значение функции потерь на валидации 0.93993390856658\n",
            "\n",
            "Эпоха 36\n",
            "Эпоха: 354 итераций, 1.71 сек\n",
            "Среднее значение функции потерь на обучении 0.00241093573572856\n",
            "Среднее значение функции потерь на валидации 0.938660801719811\n",
            "\n",
            "Эпоха 37\n",
            "Эпоха: 354 итераций, 1.71 сек\n",
            "Среднее значение функции потерь на обучении 0.002353831776500006\n",
            "Среднее значение функции потерь на валидации 0.9419009266263347\n",
            "\n",
            "Эпоха 38\n",
            "Эпоха: 354 итераций, 1.70 сек\n",
            "Среднее значение функции потерь на обучении 0.002311131220298101\n",
            "Среднее значение функции потерь на валидации 0.9422702481180935\n",
            "Epoch    39: reducing learning rate of group 0 to 2.5000e-02.\n",
            "\n",
            "Эпоха 39\n",
            "Эпоха: 354 итераций, 1.72 сек\n",
            "Среднее значение функции потерь на обучении 0.001942193917928482\n",
            "Среднее значение функции потерь на валидации 0.9435690277713841\n",
            "\n",
            "Эпоха 40\n",
            "Эпоха: 354 итераций, 1.74 сек\n",
            "Среднее значение функции потерь на обучении 0.001881574916610255\n",
            "Среднее значение функции потерь на валидации 0.9396210402502851\n",
            "\n",
            "Эпоха 41\n",
            "Эпоха: 354 итераций, 1.71 сек\n",
            "Среднее значение функции потерь на обучении 0.0018609702029468696\n",
            "Среднее значение функции потерь на валидации 0.9446342977679382\n",
            "\n",
            "Эпоха 42\n",
            "Эпоха: 354 итераций, 1.71 сек\n",
            "Среднее значение функции потерь на обучении 0.0018222722427795857\n",
            "Среднее значение функции потерь на валидации 0.942218504972377\n",
            "\n",
            "Эпоха 43\n",
            "Эпоха: 354 итераций, 1.70 сек\n",
            "Среднее значение функции потерь на обучении 0.0017887881223972635\n",
            "Среднее значение функции потерь на валидации 0.9431633184016761\n",
            "Модель не улучшилась за последние 10 эпох, прекращаем обучение\n"
          ]
        }
      ]
    },
    {
      "cell_type": "markdown",
      "metadata": {
        "id": "TnbuHR8qyJ84"
      },
      "source": [
        "## Оценка качества"
      ]
    },
    {
      "cell_type": "code",
      "metadata": {
        "ExecuteTime": {
          "end_time": "2019-09-12T12:46:25.105663Z",
          "start_time": "2019-09-12T12:46:22.373012Z"
        },
        "colab": {
          "base_uri": "https://localhost:8080/"
        },
        "id": "ogEG9Y9gyJ84",
        "outputId": "c11d305c-1bb8-4558-c479-ff903b3b0cfd"
      },
      "source": [
        "train_pred = predict_with_model(best_model, train_dataset)\n",
        "\n",
        "train_loss = F.cross_entropy(torch.from_numpy(train_pred),\n",
        "                             torch.from_numpy(train_source['target']).long())\n",
        "\n",
        "print('Среднее значение функции потерь на обучении', float(train_loss))\n",
        "print('Доля верных ответов', accuracy_score(train_source['target'], train_pred.argmax(-1)))\n",
        "print()\n",
        "\n",
        "\n",
        "\n",
        "test_pred = predict_with_model(best_model, test_dataset)\n",
        "\n",
        "test_loss = F.cross_entropy(torch.from_numpy(test_pred),\n",
        "                            torch.from_numpy(test_source['target']).long())\n",
        "\n",
        "print('Среднее значение функции потерь на валидации', float(test_loss))\n",
        "print('Доля верных ответов', accuracy_score(test_source['target'], test_pred.argmax(-1)))"
      ],
      "execution_count": 15,
      "outputs": [
        {
          "output_type": "stream",
          "name": "stderr",
          "text": [
            "100%|██████████| 354/353.5625 [00:01<00:00, 222.46it/s]\n"
          ]
        },
        {
          "output_type": "stream",
          "name": "stdout",
          "text": [
            "Среднее значение функции потерь на обучении 0.0022322258446365595\n",
            "Доля верных ответов 0.9994696835778681\n",
            "\n"
          ]
        },
        {
          "output_type": "stream",
          "name": "stderr",
          "text": [
            "236it [00:01, 224.54it/s]                             "
          ]
        },
        {
          "output_type": "stream",
          "name": "stdout",
          "text": [
            "Среднее значение функции потерь на валидации 0.9289411306381226\n",
            "Доля верных ответов 0.76805629314923\n"
          ]
        },
        {
          "output_type": "stream",
          "name": "stderr",
          "text": [
            "\n"
          ]
        }
      ]
    },
    {
      "cell_type": "code",
      "source": [
        "!nvidia-smi\n"
      ],
      "metadata": {
        "colab": {
          "base_uri": "https://localhost:8080/"
        },
        "id": "g2wSY-kn-eyS",
        "outputId": "319c0b55-ec45-435f-91c4-2cecb148bb56"
      },
      "execution_count": 16,
      "outputs": [
        {
          "output_type": "stream",
          "name": "stdout",
          "text": [
            "Sun Jan  9 19:05:15 2022       \n",
            "+-----------------------------------------------------------------------------+\n",
            "| NVIDIA-SMI 495.44       Driver Version: 460.32.03    CUDA Version: 11.2     |\n",
            "|-------------------------------+----------------------+----------------------+\n",
            "| GPU  Name        Persistence-M| Bus-Id        Disp.A | Volatile Uncorr. ECC |\n",
            "| Fan  Temp  Perf  Pwr:Usage/Cap|         Memory-Usage | GPU-Util  Compute M. |\n",
            "|                               |                      |               MIG M. |\n",
            "|===============================+======================+======================|\n",
            "|   0  Tesla P100-PCIE...  Off  | 00000000:00:04.0 Off |                    0 |\n",
            "| N/A   39C    P0    35W / 250W |   1179MiB / 16280MiB |      7%      Default |\n",
            "|                               |                      |                  N/A |\n",
            "+-------------------------------+----------------------+----------------------+\n",
            "                                                                               \n",
            "+-----------------------------------------------------------------------------+\n",
            "| Processes:                                                                  |\n",
            "|  GPU   GI   CI        PID   Type   Process name                  GPU Memory |\n",
            "|        ID   ID                                                   Usage      |\n",
            "|=============================================================================|\n",
            "|  No running processes found                                                 |\n",
            "+-----------------------------------------------------------------------------+\n"
          ]
        }
      ]
    },
    {
      "cell_type": "code",
      "source": [
        "from sklearn import metrics\n",
        "device = torch.device(\"cuda:0\" if torch.cuda.is_available() else \"cpu\")\n",
        "class_names =  train_source.target_names\n",
        "true_labels=[]\n",
        "pred_labels=[]\n",
        "# model_ft.eval()\n",
        "for inputs,labels in test_dataset:\n",
        "  pred = model.forward(inputs.to(device))\n",
        "  pred = torch.argmax(pred)\n",
        "  labels.to(torch.device(\"cpu\"))\n",
        "  pred.to(torch.device(\"cpu\"))\n",
        "  true_labels.append(int(labels));\n",
        "  pred_labels.append(int(pred));\n",
        "print(true_labels)\n",
        "print(pred_labels)\n",
        "cm=metrics.confusion_matrix(true_labels,pred_labels)\n",
        "print(cm)\n",
        "from pandas import DataFrame\n",
        "import seaborn as sn\n",
        "df_cm = DataFrame(cm, index=class_names, columns=class_names)\n",
        "ax = sn.heatmap(df_cm, cmap='Oranges', annot=True)"
      ],
      "metadata": {
        "colab": {
          "base_uri": "https://localhost:8080/",
          "height": 1000
        },
        "id": "Nv8oo6d7NhUT",
        "outputId": "5faaf8e8-a1c2-494f-80ad-434c2a879389"
      },
      "execution_count": 36,
      "outputs": [
        {
          "output_type": "stream",
          "name": "stdout",
          "text": [
            "[7, 5, 0, 17, 19, 13, 15, 15, 5, 1, 2, 5, 17, 8, 0, 2, 4, 1, 6, 16, 1, 6, 17, 14, 3, 13, 11, 7, 7, 3, 5, 5, 4, 3, 14, 1, 9, 4, 6, 1, 17, 2, 8, 1, 11, 1, 14, 3, 11, 0, 8, 8, 13, 9, 1, 2, 10, 17, 16, 14, 8, 10, 17, 19, 2, 18, 18, 13, 0, 9, 8, 18, 10, 19, 3, 7, 18, 7, 18, 9, 6, 18, 17, 4, 12, 10, 16, 15, 8, 4, 14, 9, 16, 15, 16, 0, 9, 3, 3, 16, 2, 10, 14, 15, 3, 16, 10, 4, 14, 12, 8, 3, 17, 3, 8, 14, 9, 5, 9, 17, 12, 4, 4, 5, 9, 13, 18, 8, 3, 1, 16, 11, 6, 13, 10, 5, 5, 1, 3, 12, 10, 14, 7, 7, 10, 5, 10, 12, 0, 13, 14, 4, 15, 4, 6, 14, 18, 2, 10, 4, 11, 17, 9, 5, 3, 8, 2, 16, 6, 7, 1, 7, 7, 8, 4, 12, 10, 0, 10, 18, 4, 9, 5, 0, 3, 16, 8, 4, 0, 12, 18, 11, 13, 18, 3, 15, 16, 13, 3, 19, 15, 7, 4, 6, 15, 12, 9, 1, 16, 15, 2, 14, 14, 0, 16, 2, 1, 10, 2, 0, 7, 16, 12, 2, 14, 2, 7, 2, 5, 7, 17, 2, 4, 17, 15, 4, 15, 9, 0, 7, 3, 7, 8, 10, 14, 12, 14, 12, 11, 8, 15, 6, 4, 11, 6, 17, 7, 8, 10, 11, 4, 1, 5, 8, 1, 12, 18, 2, 13, 12, 8, 16, 18, 8, 4, 15, 5, 3, 11, 3, 15, 10, 3, 2, 14, 13, 17, 19, 6, 18, 6, 3, 15, 7, 15, 10, 8, 4, 9, 13, 10, 0, 15, 6, 19, 5, 16, 7, 17, 16, 10, 6, 4, 10, 5, 4, 0, 8, 9, 2, 15, 13, 4, 8, 5, 18, 18, 12, 0, 14, 19, 10, 4, 14, 15, 3, 16, 11, 14, 13, 3, 10, 13, 7, 13, 18, 6, 15, 10, 4, 12, 18, 5, 11, 3, 7, 8, 18, 5, 15, 8, 14, 7, 10, 5, 0, 1, 4, 0, 6, 18, 8, 4, 11, 2, 14, 6, 17, 9, 10, 12, 12, 13, 7, 6, 18, 15, 4, 7, 11, 7, 11, 4, 14, 9, 8, 12, 3, 12, 4, 0, 18, 2, 16, 3, 8, 12, 2, 3, 9, 5, 7, 19, 13, 12, 11, 15, 6, 10, 11, 19, 9, 3, 1, 1, 0, 5, 3, 8, 18, 2, 8, 13, 19, 3, 5, 3, 14, 17, 9, 15, 18, 9, 4, 4, 14, 1, 18, 11, 7, 12, 19, 2, 1, 9, 15, 3, 19, 11, 8, 15, 14, 11, 5, 19, 16, 0, 9, 14, 17, 0, 18, 8, 6, 15, 13, 12, 13, 7, 9, 14, 2, 16, 6, 1, 5, 2, 12, 9, 3, 4, 6, 2, 8, 13, 3, 13, 19, 15, 8, 9, 18, 9, 19, 19, 8, 7, 14, 15, 6, 14, 9, 0, 18, 9, 2, 12, 17, 8, 5, 10, 10, 19, 5, 8, 16, 17, 14, 13, 10, 19, 1, 16, 13, 7, 9, 11, 9, 3, 4, 5, 10, 17, 3, 13, 3, 17, 13, 16, 8, 4, 4, 16, 11, 10, 11, 4, 0, 10, 15, 8, 0, 12, 14, 9, 3, 1, 16, 7, 1, 1, 17, 4, 17, 8, 4, 19, 14, 2, 12, 16, 10, 10, 16, 5, 0, 1, 17, 9, 3, 16, 11, 13, 11, 10, 1, 18, 9, 14, 16, 14, 10, 10, 17, 11, 5, 12, 9, 17, 5, 9, 5, 15, 18, 10, 0, 2, 7, 7, 9, 9, 14, 16, 15, 6, 17, 8, 14, 1, 19, 5, 2, 5, 8, 6, 15, 11, 5, 10, 17, 12, 9, 9, 10, 1, 7, 8, 6, 6, 1, 15, 17, 6, 6, 10, 7, 2, 5, 2, 15, 1, 7, 8, 5, 10, 0, 8, 7, 10, 11, 16, 15, 10, 13, 5, 17, 13, 12, 18, 3, 8, 14, 2, 9, 2, 4, 3, 13, 3, 3, 2, 13, 18, 13, 0, 15, 9, 11, 16, 16, 5, 3, 14, 5, 12, 5, 19, 16, 9, 12, 19, 19, 15, 13, 10, 12, 15, 11, 1, 2, 12, 12, 18, 8, 9, 0, 7, 12, 6, 4, 14, 12, 10, 6, 7, 5, 10, 11, 8, 2, 2, 2, 14, 4, 17, 7, 17, 11, 5, 8, 10, 12, 15, 16, 10, 4, 10, 7, 5, 15, 5, 7, 7, 17, 5, 10, 14, 10, 4, 8, 19, 15, 8, 13, 7, 17, 14, 14, 12, 9, 9, 2, 16, 3, 13, 4, 5, 4, 19, 11, 18, 1, 4, 0, 1, 9, 9, 4, 5, 15, 8, 2, 5, 5, 13, 10, 11, 17, 18, 16, 14, 16, 2, 1, 12, 16, 19, 2, 12, 2, 13, 0, 17, 6, 15, 11, 11, 17, 3, 4, 2, 16, 19, 17, 12, 10, 4, 14, 8, 1, 4, 15, 10, 6, 10, 13, 3, 17, 9, 3, 9, 12, 4, 1, 10, 3, 7, 15, 5, 10, 15, 10, 10, 19, 8, 18, 14, 16, 5, 14, 5, 13, 15, 5, 1, 16, 3, 16, 2, 9, 15, 8, 17, 1, 6, 10, 8, 2, 14, 12, 14, 14, 10, 9, 11, 3, 11, 17, 9, 16, 5, 13, 14, 7, 19, 17, 14, 8, 3, 4, 7, 14, 4, 2, 9, 10, 7, 4, 17, 5, 19, 1, 9, 18, 11, 4, 8, 12, 19, 0, 10, 17, 11, 7, 6, 10, 11, 15, 13, 16, 17, 4, 5, 10, 17, 17, 15, 3, 2, 8, 0, 13, 17, 2, 2, 10, 14, 15, 13, 7, 9, 6, 6, 12, 8, 11, 7, 0, 5, 12, 9, 8, 12, 0, 4, 7, 4, 6, 11, 5, 16, 19, 0, 10, 15, 3, 17, 19, 4, 15, 4, 6, 2, 15, 0, 8, 13, 9, 18, 7, 9, 16, 18, 1, 5, 6, 11, 15, 1, 10, 19, 14, 15, 2, 9, 10, 15, 8, 10, 5, 19, 14, 3, 4, 10, 9, 3, 1, 16, 8, 1, 5, 1, 8, 14, 10, 0, 14, 15, 15, 0, 8, 19, 13, 11, 4, 5, 13, 10, 14, 16, 15, 12, 14, 0, 7, 18, 11, 2, 11, 9, 7, 19, 19, 19, 15, 1, 3, 6, 8, 8, 13, 19, 1, 18, 1, 13, 18, 14, 18, 8, 7, 7, 0, 17, 8, 4, 3, 1, 0, 6, 17, 1, 10, 16, 6, 9, 17, 2, 5, 15, 12, 7, 3, 5, 5, 13, 3, 1, 2, 11, 15, 14, 16, 14, 13, 15, 16, 12, 13, 13, 16, 3, 15, 1, 13, 13, 13, 7, 5, 1, 5, 9, 19, 5, 4, 6, 9, 1, 12, 6, 10, 7, 12, 11, 12, 1, 13, 12, 0, 14, 14, 3, 11, 12, 3, 11, 14, 10, 7, 13, 11, 16, 9, 9, 13, 1, 11, 19, 1, 13, 6, 11, 2, 18, 17, 3, 10, 17, 6, 6, 16, 6, 12, 3, 1, 1, 1, 16, 1, 1, 17, 1, 13, 5, 6, 11, 1, 14, 18, 3, 8, 2, 0, 1, 19, 15, 19, 15, 7, 7, 11, 12, 3, 4, 11, 10, 12, 19, 1, 10, 2, 10, 15, 14, 19, 9, 3, 9, 17, 13, 9, 8, 6, 17, 19, 3, 8, 6, 2, 4, 15, 1, 6, 5, 9, 18, 17, 3, 3, 3, 15, 7, 15, 3, 5, 15, 6, 3, 11, 6, 5, 17, 6, 12, 5, 4, 12, 19, 15, 8, 5, 1, 1, 2, 11, 1, 9, 17, 4, 19, 13, 0, 15, 4, 1, 16, 12, 9, 15, 13, 8, 12, 3, 3, 5, 14, 2, 7, 14, 12, 19, 18, 2, 10, 10, 11, 17, 3, 12, 12, 14, 1, 7, 18, 3, 14, 16, 17, 6, 18, 10, 16, 11, 8, 7, 8, 4, 9, 14, 8, 14, 4, 1, 6, 16, 5, 4, 0, 4, 0, 15, 15, 3, 3, 8, 15, 17, 0, 4, 9, 7, 4, 13, 0, 11, 4, 17, 14, 0, 2, 4, 11, 3, 0, 11, 11, 11, 15, 6, 16, 2, 7, 5, 9, 1, 10, 5, 11, 7, 13, 17, 2, 14, 13, 5, 13, 8, 0, 2, 13, 5, 8, 0, 12, 3, 5, 15, 2, 14, 4, 9, 7, 10, 3, 5, 11, 15, 14, 11, 17, 6, 4, 6, 9, 16, 14, 1, 5, 13, 12, 16, 17, 9, 10, 7, 19, 0, 15, 9, 11, 9, 12, 1, 10, 12, 15, 6, 17, 7, 8, 4, 1, 4, 11, 10, 14, 14, 5, 18, 14, 18, 6, 11, 4, 14, 8, 4, 14, 6, 18, 17, 1, 9, 6, 3, 11, 18, 2, 7, 11, 1, 11, 9, 6, 2, 3, 4, 17, 16, 18, 13, 0, 16, 9, 9, 13, 3, 16, 18, 13, 0, 4, 3, 19, 9, 13, 17, 1, 3, 18, 6, 14, 16, 1, 5, 3, 3, 5, 1, 14, 3, 14, 5, 7, 15, 4, 11, 19, 15, 8, 19, 1, 9, 13, 4, 17, 7, 6, 7, 6, 14, 0, 14, 19, 16, 6, 8, 0, 19, 1, 18, 10, 2, 10, 16, 12, 9, 2, 0, 8, 2, 5, 9, 17, 12, 16, 6, 2, 2, 14, 1, 4, 2, 14, 7, 3, 8, 13, 7, 13, 2, 11, 18, 14, 4, 7, 6, 5, 2, 3, 5, 12, 10, 0, 17, 8, 16, 7, 9, 2, 1, 5, 1, 9, 17, 4, 9, 9, 9, 6, 0, 11, 8, 17, 11, 19, 5, 11, 9, 11, 9, 9, 16, 0, 3, 13, 2, 11, 17, 1, 14, 6, 1, 6, 18, 12, 15, 3, 19, 2, 8, 14, 13, 17, 11, 5, 4, 6, 11, 12, 12, 6, 8, 18, 12, 1, 1, 19, 14, 13, 12, 16, 1, 5, 18, 1, 17, 10, 3, 8, 13, 11, 0, 13, 16, 10, 3, 4, 11, 2, 18, 19, 2, 16, 18, 0, 12, 10, 10, 11, 18, 9, 6, 13, 14, 0, 6, 7, 15, 15, 14, 8, 2, 13, 12, 18, 7, 1, 17, 9, 12, 15, 16, 18, 17, 14, 12, 2, 5, 3, 0, 13, 1, 11, 6, 15, 0, 6, 10, 0, 8, 5, 5, 17, 3, 2, 3, 8, 16, 16, 4, 18, 4, 9, 16, 2, 13, 17, 9, 17, 18, 13, 6, 1, 3, 18, 6, 4, 0, 14, 12, 7, 15, 3, 16, 7, 2, 4, 11, 10, 2, 13, 17, 9, 12, 1, 5, 17, 6, 4, 17, 10, 17, 3, 14, 3, 17, 16, 3, 9, 6, 17, 12, 14, 7, 8, 11, 10, 13, 8, 3, 7, 10, 5, 8, 13, 13, 2, 3, 6, 1, 5, 12, 16, 16, 3, 3, 11, 4, 16, 18, 16, 18, 17, 7, 6, 1, 11, 14, 6, 15, 13, 10, 6, 10, 11, 0, 16, 17, 9, 15, 8, 9, 2, 9, 8, 19, 10, 0, 18, 12, 0, 16, 16, 16, 6, 1, 15, 15, 11, 18, 12, 2, 13, 15, 18, 3, 12, 9, 7, 0, 7, 3, 0, 11, 15, 4, 2, 6, 5, 2, 11, 11, 0, 15, 4, 3, 8, 9, 16, 1, 18, 16, 14, 3, 1, 13, 16, 12, 6, 0, 16, 4, 4, 1, 14, 10, 2, 6, 5, 13, 16, 3, 9, 14, 4, 12, 14, 19, 19, 8, 14, 17, 8, 1, 0, 0, 13, 5, 17, 7, 2, 7, 10, 17, 15, 12, 5, 6, 4, 19, 11, 5, 3, 8, 11, 12, 16, 3, 13, 2, 14, 16, 10, 4, 9, 7, 4, 18, 14, 1, 4, 8, 14, 11, 11, 9, 6, 19, 17, 2, 12, 10, 12, 5, 14, 7, 9, 11, 2, 3, 19, 1, 3, 4, 9, 18, 3, 11, 2, 16, 8, 10, 10, 9, 6, 7, 0, 7, 10, 15, 3, 14, 16, 12, 16, 11, 2, 3, 14, 13, 18, 0, 1, 12, 11, 14, 0, 15, 9, 5, 4, 12, 18, 2, 9, 9, 11, 1, 0, 17, 9, 11, 12, 13, 19, 6, 12, 4, 8, 19, 12, 18, 18, 5, 5, 3, 19, 17, 16, 2, 7, 2, 10, 11, 0, 5, 5, 4, 9, 12, 15, 13, 6, 15, 7, 0, 15, 4, 9, 7, 14, 12, 17, 14, 10, 13, 17, 4, 0, 6, 1, 13, 17, 16, 6, 13, 13, 4, 2, 15, 1, 15, 4, 8, 14, 3, 11, 5, 6, 13, 9, 6, 4, 9, 5, 10, 13, 10, 13, 12, 6, 13, 16, 1, 17, 9, 10, 0, 0, 4, 13, 17, 8, 3, 17, 0, 18, 2, 0, 0, 4, 5, 7, 14, 10, 4, 12, 12, 9, 13, 14, 11, 6, 16, 10, 13, 3, 15, 17, 3, 7, 2, 15, 5, 13, 2, 2, 7, 16, 7, 14, 7, 15, 15, 7, 11, 0, 5, 3, 14, 13, 0, 4, 8, 10, 16, 16, 13, 1, 16, 0, 13, 6, 16, 13, 13, 9, 2, 14, 2, 8, 4, 4, 14, 2, 4, 9, 13, 9, 1, 15, 10, 18, 11, 18, 8, 11, 9, 5, 18, 18, 18, 10, 8, 2, 7, 9, 9, 5, 7, 5, 0, 17, 13, 16, 8, 7, 18, 7, 4, 19, 1, 10, 18, 19, 14, 16, 6, 4, 19, 11, 19, 17, 3, 11, 17, 3, 16, 12, 14, 15, 3, 17, 3, 17, 11, 5, 0, 9, 13, 12, 5, 13, 8, 1, 12, 14, 13, 12, 18, 5, 19, 12, 8, 7, 2, 18, 6, 4, 18, 0, 3, 19, 2, 17, 12, 9, 12, 13, 2, 1, 4, 8, 10, 5, 13, 5, 11, 5, 7, 14, 11, 11, 1, 2, 11, 8, 12, 19, 17, 2, 10, 19, 17, 5, 4, 6, 5, 3, 18, 10, 12, 6, 12, 7, 4, 0, 15, 15, 5, 5, 1, 13, 8, 4, 11, 4, 6, 3, 10, 1, 8, 18, 7, 8, 5, 15, 7, 2, 17, 8, 17, 5, 1, 14, 4, 15, 10, 13, 10, 10, 14, 2, 17, 12, 10, 11, 15, 3, 8, 5, 4, 2, 1, 7, 3, 3, 5, 7, 13, 9, 1, 16, 14, 6, 3, 7, 7, 2, 12, 5, 19, 3, 15, 15, 12, 4, 15, 12, 4, 1, 10, 10, 8, 1, 4, 16, 1, 4, 7, 4, 13, 9, 16, 14, 18, 18, 7, 14, 7, 7, 4, 10, 9, 12, 5, 0, 8, 15, 19, 14, 3, 5, 5, 7, 3, 15, 8, 17, 2, 14, 8, 0, 3, 13, 18, 12, 5, 4, 18, 17, 10, 17, 1, 4, 1, 14, 6, 4, 2, 1, 19, 13, 19, 9, 9, 4, 7, 12, 7, 5, 13, 18, 3, 6, 13, 3, 0, 3, 1, 4, 11, 9, 12, 5, 13, 9, 9, 13, 1, 2, 0, 16, 2, 19, 14, 1, 1, 19, 8, 16, 7, 2, 14, 1, 9, 6, 11, 15, 0, 0, 10, 6, 6, 1, 16, 16, 16, 13, 9, 8, 5, 17, 11, 18, 14, 12, 8, 5, 15, 8, 9, 2, 1, 4, 15, 2, 3, 8, 12, 4, 5, 18, 0, 15, 13, 15, 15, 7, 7, 5, 16, 6, 17, 9, 7, 15, 10, 13, 18, 19, 1, 10, 0, 13, 5, 9, 1, 4, 6, 1, 17, 16, 18, 0, 9, 14, 8, 8, 13, 4, 9, 11, 12, 14, 8, 3, 13, 3, 7, 5, 2, 2, 4, 11, 11, 9, 15, 14, 17, 8, 5, 1, 6, 10, 0, 12, 6, 16, 7, 12, 7, 9, 4, 10, 18, 8, 12, 8, 1, 5, 9, 16, 7, 10, 18, 6, 11, 17, 0, 13, 14, 11, 3, 1, 3, 4, 7, 19, 4, 10, 10, 10, 0, 3, 11, 8, 17, 5, 9, 14, 10, 7, 15, 7, 18, 18, 14, 10, 4, 19, 7, 9, 4, 9, 0, 6, 3, 4, 1, 15, 12, 14, 11, 5, 14, 16, 8, 0, 18, 17, 5, 17, 9, 9, 19, 1, 0, 11, 2, 12, 7, 15, 3, 4, 17, 7, 6, 1, 16, 16, 4, 6, 16, 1, 11, 14, 6, 6, 9, 4, 1, 7, 16, 14, 5, 2, 15, 13, 3, 15, 16, 4, 14, 13, 9, 15, 15, 16, 0, 15, 13, 18, 13, 7, 11, 0, 4, 4, 15, 10, 5, 4, 11, 7, 6, 7, 2, 15, 15, 0, 3, 6, 10, 18, 1, 9, 7, 14, 15, 14, 10, 13, 2, 15, 16, 18, 5, 17, 13, 15, 17, 17, 1, 11, 0, 8, 15, 11, 10, 12, 16, 11, 19, 9, 12, 3, 13, 0, 10, 11, 6, 10, 13, 2, 4, 11, 11, 4, 7, 9, 4, 9, 7, 13, 14, 1, 14, 19, 18, 13, 9, 14, 6, 13, 15, 12, 17, 13, 0, 13, 17, 1, 10, 1, 3, 0, 19, 9, 3, 12, 13, 16, 13, 0, 4, 1, 16, 15, 7, 9, 1, 5, 13, 8, 8, 11, 7, 16, 13, 10, 15, 10, 13, 9, 8, 13, 3, 14, 17, 16, 7, 7, 8, 17, 0, 13, 10, 12, 10, 0, 1, 10, 9, 12, 4, 12, 12, 13, 9, 13, 19, 3, 16, 11, 14, 0, 7, 11, 8, 11, 5, 12, 8, 9, 6, 13, 7, 16, 14, 12, 7, 12, 17, 6, 1, 5, 1, 9, 0, 2, 16, 0, 13, 19, 11, 0, 9, 14, 9, 10, 13, 13, 14, 0, 14, 18, 5, 2, 10, 0, 14, 15, 10, 10, 11, 12, 19, 12, 12, 5, 11, 6, 5, 6, 17, 18, 2, 10, 8, 1, 18, 4, 15, 2, 14, 14, 18, 12, 18, 4, 14, 8, 4, 6, 7, 18, 9, 5, 15, 16, 10, 13, 14, 10, 10, 14, 17, 17, 0, 15, 17, 5, 9, 7, 13, 16, 2, 9, 9, 14, 2, 5, 4, 7, 9, 14, 2, 19, 3, 1, 1, 14, 2, 17, 6, 1, 7, 11, 5, 15, 10, 13, 12, 8, 6, 16, 16, 6, 5, 1, 2, 11, 2, 8, 4, 1, 10, 4, 12, 15, 3, 3, 18, 15, 4, 14, 4, 6, 12, 19, 18, 10, 4, 4, 16, 8, 2, 15, 8, 6, 9, 17, 11, 13, 17, 9, 12, 14, 19, 10, 3, 15, 19, 1, 2, 4, 10, 16, 12, 1, 1, 11, 6, 0, 16, 0, 19, 19, 8, 12, 16, 2, 11, 11, 2, 7, 7, 13, 6, 19, 10, 15, 3, 13, 14, 2, 2, 1, 13, 14, 0, 5, 3, 9, 18, 5, 16, 12, 17, 10, 2, 16, 0, 6, 12, 14, 5, 12, 14, 0, 17, 9, 8, 14, 10, 18, 11, 8, 17, 10, 5, 16, 12, 2, 6, 9, 16, 1, 16, 4, 2, 1, 2, 4, 11, 16, 18, 0, 10, 0, 2, 15, 4, 3, 2, 2, 15, 7, 12, 8, 5, 11, 12, 7, 11, 8, 17, 13, 11, 0, 19, 18, 17, 13, 5, 8, 4, 0, 19, 13, 12, 8, 17, 16, 17, 6, 0, 7, 14, 11, 12, 7, 2, 15, 17, 15, 8, 0, 5, 10, 0, 19, 14, 3, 1, 18, 5, 2, 7, 10, 17, 4, 6, 5, 1, 13, 11, 3, 13, 18, 2, 2, 17, 10, 6, 18, 4, 10, 1, 8, 16, 17, 8, 6, 3, 19, 17, 6, 1, 1, 8, 8, 0, 1, 7, 5, 14, 14, 0, 3, 7, 2, 7, 8, 13, 12, 1, 18, 5, 6, 8, 17, 17, 4, 12, 3, 7, 4, 5, 0, 4, 9, 9, 19, 13, 9, 12, 7, 12, 7, 14, 7, 18, 10, 0, 18, 12, 16, 8, 7, 18, 5, 11, 3, 12, 3, 14, 9, 2, 11, 16, 19, 8, 14, 0, 9, 9, 0, 16, 6, 2, 8, 12, 0, 11, 14, 11, 3, 11, 18, 16, 5, 2, 9, 8, 12, 3, 4, 11, 8, 6, 9, 4, 12, 18, 10, 6, 7, 12, 0, 16, 10, 14, 1, 9, 6, 12, 11, 1, 15, 1, 1, 10, 5, 15, 1, 5, 9, 8, 1, 4, 19, 16, 13, 7, 17, 12, 17, 19, 2, 16, 9, 2, 1, 0, 9, 12, 6, 6, 11, 10, 13, 4, 5, 6, 0, 5, 8, 2, 18, 0, 10, 19, 2, 9, 1, 3, 3, 0, 0, 6, 11, 4, 4, 6, 4, 17, 0, 13, 8, 2, 17, 6, 18, 15, 0, 2, 15, 9, 12, 7, 0, 5, 7, 3, 2, 2, 11, 8, 15, 7, 10, 14, 3, 16, 8, 18, 12, 17, 11, 12, 7, 2, 18, 14, 12, 3, 12, 0, 6, 5, 2, 0, 6, 15, 16, 16, 16, 15, 10, 5, 2, 19, 17, 11, 11, 17, 9, 18, 12, 1, 17, 7, 17, 2, 0, 3, 10, 15, 19, 16, 1, 15, 14, 2, 19, 2, 15, 4, 8, 11, 6, 1, 7, 3, 10, 3, 12, 7, 2, 18, 3, 1, 4, 8, 0, 5, 8, 7, 17, 2, 17, 6, 7, 15, 4, 12, 4, 7, 5, 6, 11, 13, 0, 11, 15, 16, 7, 5, 10, 15, 5, 11, 12, 13, 8, 19, 10, 5, 7, 13, 18, 12, 9, 1, 13, 11, 8, 6, 9, 12, 15, 0, 0, 9, 12, 14, 10, 6, 5, 7, 6, 11, 3, 13, 16, 6, 15, 3, 11, 15, 16, 4, 5, 13, 3, 17, 15, 5, 12, 18, 4, 1, 12, 0, 11, 18, 14, 1, 7, 13, 17, 8, 18, 4, 5, 14, 8, 19, 15, 2, 1, 11, 15, 12, 10, 4, 14, 16, 11, 13, 19, 13, 19, 10, 14, 10, 2, 17, 18, 16, 15, 8, 8, 17, 5, 7, 12, 13, 3, 4, 8, 12, 18, 2, 17, 2, 6, 12, 11, 7, 13, 10, 15, 11, 2, 8, 6, 17, 18, 3, 15, 4, 17, 7, 18, 0, 10, 14, 10, 2, 5, 6, 12, 4, 1, 4, 16, 12, 16, 5, 7, 4, 4, 5, 7, 15, 14, 6, 15, 0, 1, 9, 10, 1, 5, 17, 5, 14, 1, 18, 15, 5, 4, 16, 7, 15, 13, 1, 8, 3, 5, 1, 15, 7, 3, 5, 9, 11, 7, 7, 15, 6, 11, 16, 7, 1, 3, 14, 10, 9, 14, 8, 0, 17, 3, 2, 12, 1, 2, 15, 14, 16, 7, 14, 12, 11, 10, 15, 14, 15, 9, 12, 8, 11, 2, 7, 6, 5, 0, 10, 11, 12, 9, 6, 15, 17, 8, 0, 3, 6, 16, 19, 10, 7, 14, 19, 2, 15, 10, 2, 8, 10, 0, 1, 15, 3, 10, 18, 9, 15, 8, 0, 1, 13, 12, 1, 12, 18, 5, 0, 13, 2, 10, 5, 0, 8, 18, 7, 16, 2, 4, 16, 2, 1, 16, 0, 9, 3, 3, 9, 15, 7, 11, 16, 18, 14, 17, 17, 15, 1, 8, 3, 7, 14, 6, 4, 9, 5, 15, 19, 18, 17, 18, 8, 15, 10, 17, 16, 16, 16, 16, 7, 10, 17, 18, 17, 10, 11, 2, 6, 17, 4, 1, 3, 9, 4, 5, 12, 17, 4, 5, 7, 15, 10, 10, 11, 1, 7, 6, 4, 16, 11, 2, 10, 11, 17, 15, 14, 18, 11, 8, 2, 16, 7, 13, 1, 10, 2, 13, 14, 18, 9, 10, 3, 4, 13, 1, 13, 5, 18, 7, 1, 13, 11, 11, 13, 15, 2, 6, 16, 19, 12, 15, 11, 19, 3, 18, 15, 4, 11, 8, 9, 15, 0, 4, 5, 11, 11, 5, 10, 18, 6, 19, 15, 7, 7, 2, 6, 17, 7, 13, 12, 0, 7, 7, 11, 9, 2, 15, 4, 0, 4, 0, 18, 18, 16, 16, 13, 13, 7, 15, 2, 4, 8, 5, 6, 0, 17, 5, 9, 2, 17, 6, 3, 15, 7, 7, 2, 14, 15, 4, 11, 12, 4, 16, 18, 7, 1, 10, 5, 13, 3, 19, 6, 16, 11, 2, 12, 11, 7, 5, 18, 10, 4, 3, 12, 14, 8, 5, 14, 3, 3, 3, 18, 13, 19, 13, 7, 14, 4, 6, 0, 3, 2, 3, 5, 4, 13, 17, 16, 4, 19, 14, 19, 11, 14, 11, 12, 11, 4, 7, 19, 17, 1, 6, 3, 15, 14, 16, 12, 15, 12, 8, 13, 19, 7, 19, 11, 1, 0, 19, 2, 1, 2, 15, 16, 15, 16, 12, 19, 19, 7, 1, 7, 6, 15, 15, 3, 17, 17, 15, 10, 10, 16, 14, 11, 10, 3, 5, 6, 11, 3, 17, 12, 5, 0, 3, 16, 15, 11, 7, 9, 17, 8, 14, 15, 3, 16, 12, 15, 6, 3, 4, 10, 11, 0, 2, 0, 8, 6, 11, 9, 13, 12, 6, 17, 10, 3, 17, 10, 3, 1, 7, 5, 18, 19, 8, 19, 0, 8, 9, 4, 5, 10, 8, 10, 8, 16, 14, 16, 6, 17, 19, 6, 17, 14, 13, 18, 10, 8, 9, 8, 11, 7, 18, 5, 11, 19, 3, 16, 10, 0, 3, 4, 4, 3, 8, 9, 16, 11, 11, 0, 5, 8, 17, 8, 2, 6, 1, 19, 3, 2, 6, 11, 7, 3, 14, 0, 4, 11, 13, 10, 4, 14, 2, 9, 19, 10, 7, 8, 12, 15, 18, 13, 12, 7, 17, 16, 17, 17, 4, 7, 13, 6, 1, 12, 9, 4, 13, 10, 13, 7, 4, 13, 6, 12, 14, 12, 12, 1, 13, 17, 3, 18, 11, 14, 13, 17, 6, 0, 19, 11, 14, 12, 19, 15, 5, 12, 19, 2, 18, 17, 15, 2, 0, 6, 1, 4, 3, 1, 1, 14, 18, 12, 12, 14, 11, 10, 4, 14, 6, 8, 5, 0, 5, 5, 2, 15, 1, 12, 19, 4, 12, 2, 8, 19, 13, 4, 6, 18, 6, 9, 1, 12, 13, 12, 5, 1, 6, 2, 10, 5, 11, 16, 15, 6, 9, 4, 13, 15, 1, 13, 2, 15, 8, 13, 17, 13, 4, 2, 16, 14, 16, 6, 18, 14, 1, 2, 18, 17, 3, 19, 1, 11, 18, 9, 3, 2, 18, 15, 11, 18, 10, 10, 1, 15, 9, 8, 9, 4, 11, 3, 6, 17, 14, 14, 3, 14, 14, 16, 5, 17, 10, 1, 19, 4, 2, 2, 11, 6, 1, 13, 17, 11, 3, 6, 2, 1, 10, 11, 17, 16, 19, 10, 8, 11, 7, 1, 11, 16, 4, 1, 5, 13, 17, 18, 3, 11, 15, 7, 15, 0, 2, 14, 2, 16, 7, 3, 15, 3, 9, 17, 1, 15, 1, 8, 13, 15, 17, 8, 6, 7, 18, 15, 1, 2, 1, 18, 11, 15, 15, 16, 17, 4, 5, 17, 17, 14, 0, 2, 11, 10, 16, 2, 14, 1, 1, 14, 12, 15, 16, 7, 14, 16, 8, 4, 12, 1, 14, 15, 6, 6, 10, 12, 11, 5, 17, 2, 7, 6, 1, 16, 12, 12, 7, 5, 9, 5, 15, 16, 11, 13, 13, 3, 7, 6, 0, 10, 17, 2, 14, 1, 15, 2, 4, 12, 8, 5, 2, 13, 6, 2, 19, 6, 16, 6, 12, 3, 12, 7, 2, 14, 17, 19, 2, 9, 0, 3, 2, 4, 13, 10, 11, 8, 13, 9, 3, 0, 4, 2, 0, 18, 9, 11, 0, 19, 5, 5, 3, 18, 1, 6, 1, 13, 9, 16, 8, 4, 7, 2, 9, 14, 13, 12, 3, 13, 8, 13, 3, 1, 9, 5, 5, 12, 9, 12, 10, 4, 15, 8, 3, 12, 1, 0, 6, 3, 12, 19, 4, 8, 3, 13, 19, 11, 19, 17, 10, 2, 6, 4, 6, 6, 3, 5, 16, 18, 16, 0, 3, 16, 4, 0, 13, 10, 10, 4, 8, 1, 6, 19, 14, 10, 3, 14, 6, 17, 1, 12, 5, 11, 14, 19, 14, 9, 2, 10, 13, 19, 9, 13, 9, 19, 11, 5, 3, 11, 1, 6, 4, 4, 12, 10, 16, 5, 6, 4, 14, 4, 0, 8, 15, 3, 19, 1, 1, 11, 16, 13, 6, 14, 17, 8, 0, 6, 19, 16, 6, 12, 6, 11, 16, 16, 10, 10, 3, 19, 15, 0, 6, 8, 16, 12, 9, 7, 8, 15, 18, 9, 2, 6, 19, 8, 14, 16, 10, 7, 1, 3, 10, 14, 12, 14, 13, 17, 2, 8, 13, 3, 18, 10, 8, 7, 9, 10, 16, 3, 11, 14, 12, 7, 19, 13, 12, 12, 17, 11, 14, 17, 4, 2, 6, 5, 6, 3, 8, 8, 8, 8, 16, 3, 8, 3, 2, 2, 10, 13, 11, 3, 3, 14, 7, 10, 11, 15, 0, 4, 3, 13, 15, 16, 9, 8, 17, 2, 18, 3, 10, 5, 16, 1, 15, 8, 0, 2, 2, 6, 14, 10, 8, 15, 0, 6, 10, 13, 15, 19, 18, 14, 8, 9, 5, 13, 11, 3, 5, 5, 0, 15, 18, 15, 2, 1, 5, 13, 9, 1, 9, 14, 14, 8, 15, 0, 11, 7, 15, 18, 3, 2, 15, 3, 5, 15, 8, 6, 13, 7, 18, 18, 7, 8, 10, 13, 13, 1, 9, 8, 12, 10, 13, 15, 8, 7, 8, 12, 12, 0, 14, 18, 1, 0, 11, 3, 18, 3, 3, 0, 14, 8, 1, 2, 14, 9, 12, 19, 17, 11, 1, 0, 12, 17, 18, 0, 8, 9, 8, 11, 9, 17, 8, 17, 15, 1, 6, 6, 16, 7, 13, 11, 11, 1, 11, 13, 15, 13, 11, 13, 5, 7, 12, 7, 15, 8, 16, 14, 0, 13, 18, 9, 4, 4, 17, 1, 0, 6, 13, 13, 9, 16, 9, 17, 2, 14, 5, 13, 16, 19, 8, 17, 18, 12, 7, 3, 9, 7, 10, 13, 18, 12, 15, 5, 5, 1, 18, 18, 4, 13, 18, 13, 2, 11, 4, 18, 4, 3, 9, 1, 9, 16, 5, 0, 12, 14, 10, 11, 9, 6, 13, 4, 15, 13, 13, 7, 19, 18, 14, 3, 4, 15, 11, 5, 8, 6, 15, 14, 8, 0, 17, 15, 14, 17, 19, 13, 17, 0, 14, 17, 2, 17, 19, 9, 14, 2, 10, 19, 8, 16, 14, 8, 12, 15, 5, 15, 18, 17, 13, 1, 0, 10, 16, 14, 2, 5, 10, 0, 10, 5, 0, 7, 18, 4, 11, 3, 2, 6, 17, 15, 19, 10, 15, 3, 12, 1, 7, 10, 4, 7, 17, 13, 13, 14, 1, 2, 11, 6, 17, 16, 1, 9, 9, 13, 1, 11, 15, 17, 13, 14, 6, 16, 8, 6, 0, 3, 2, 11, 13, 7, 12, 9, 8, 4, 2, 4, 10, 17, 9, 4, 15, 7, 5, 12, 8, 10, 13, 13, 5, 1, 7, 5, 15, 4, 9, 18, 18, 4, 16, 5, 10, 0, 12, 3, 1, 15, 16, 2, 5, 8, 1, 0, 5, 13, 5, 13, 2, 8, 19, 18, 10, 7, 17, 15, 5, 16, 11, 3, 2, 4, 18, 5, 17, 1, 10, 17, 14, 12, 11, 3, 11, 13, 13, 0, 7, 12, 5, 17, 15, 1, 7, 18, 18, 3, 16, 14, 17, 10, 15, 14, 2, 8, 3, 16, 6, 10, 10, 1, 3, 15, 3, 11, 17, 0, 10, 8, 11, 7, 1, 19, 3, 15, 11, 17, 8, 12, 5, 7, 12, 11, 4, 3, 8, 11, 2, 18, 9, 5, 3, 17, 19, 1, 2, 7, 1, 12, 14, 15, 13, 10, 8, 13, 16, 19, 2, 9, 11, 4, 0, 14, 11, 5, 14, 10, 13, 18, 4, 12, 14, 1, 0, 14, 17, 15, 6, 7, 12, 10, 18, 6, 9, 13, 15, 13, 9, 12, 15, 9, 14, 5, 8, 18, 8, 17, 16, 6, 1, 3, 9, 8, 6, 14, 15, 8, 1, 7, 14, 8, 6, 5, 9, 3, 1, 19, 15, 3, 14, 17, 17, 8, 2, 8, 8, 2, 10, 14, 14, 9, 6, 0, 0, 5, 11, 10, 14, 16, 13, 7, 8, 10, 5, 13, 9, 17, 9, 1, 12, 10, 8, 11, 14, 13, 17, 12, 14, 10, 15, 10, 3, 19, 13, 6, 3, 16, 14, 10, 3, 6, 17, 2, 11, 8, 9, 0, 13, 6, 12, 18, 19, 6, 5, 18, 6, 15, 15, 8, 17, 0, 12, 0, 7, 17, 6, 18, 17, 12, 12, 0, 11, 3, 10, 12, 5, 1, 6, 4, 14, 17, 2, 6, 16, 18, 6, 2, 5, 18, 11, 15, 12, 16, 16, 5, 11, 15, 6, 0, 19, 0, 12, 0, 12, 8, 2, 1, 4, 10, 18, 16, 2, 10, 15, 19, 0, 9, 14, 4, 2, 6, 1, 5, 10, 18, 2, 5, 3, 12, 14, 0, 16, 0, 3, 11, 0, 6, 3, 5, 2, 12, 16, 6, 5, 10, 3, 16, 5, 1, 19, 6, 2, 3, 18, 13, 17, 11, 4, 7, 11, 12, 12, 3, 17, 10, 2, 19, 9, 17, 16, 12, 15, 14, 3, 12, 5, 12, 17, 7, 14, 11, 4, 12, 12, 5, 15, 11, 17, 16, 12, 6, 6, 4, 6, 4, 7, 3, 8, 16, 0, 3, 2, 11, 11, 2, 8, 0, 2, 14, 3, 0, 11, 3, 15, 11, 12, 12, 18, 6, 12, 8, 1, 2, 3, 17, 18, 15, 10, 15, 16, 18, 5, 11, 18, 0, 3, 0, 18, 3, 2, 4, 7, 13, 5, 5, 6, 13, 0, 16, 7, 16, 12, 5, 1, 5, 4, 4, 15, 10, 10, 9, 15, 6, 16, 2, 4, 10, 3, 16, 7, 4, 8, 4, 4, 10, 16, 9, 15, 1, 9, 11, 15, 5, 8, 8, 7, 1, 0, 18, 19, 1, 19, 14, 8, 7, 12, 19, 10, 6, 5, 15, 0, 3, 13, 5, 0, 15, 19, 9, 18, 14, 13, 2, 2, 12, 11, 2, 3, 15, 1, 11, 11, 6, 1, 7, 5, 4, 18, 2, 8, 9, 12, 16, 9, 6, 12, 8, 16, 16, 8, 6, 3, 19, 16, 13, 18, 15, 7, 16, 9, 11, 12, 18, 3, 8, 12, 3, 17, 16, 2, 17, 17, 6, 6, 14, 17, 18, 13, 18, 6, 18, 9, 2, 19, 19, 2, 2, 14, 12, 17, 14, 6, 15, 15, 11, 10, 11, 16, 15, 9, 1, 5, 1, 10, 10, 6, 19, 5, 9, 7, 4, 0, 2, 2, 15, 8, 7, 12, 9, 1, 12, 7, 18, 1, 0, 17, 18, 14, 2, 19, 7, 8, 10, 8, 5, 18, 10, 1, 2, 8, 12, 10, 13, 17, 17, 14, 4, 4, 16, 2, 9, 19, 2, 14, 2, 7, 13, 16, 15, 9, 6, 13, 13, 1, 7, 10, 10, 9, 8, 14, 6, 5, 1, 1, 14, 4, 2, 15, 15, 8, 2, 3, 15, 10, 2, 1, 15, 11, 10, 11, 9, 9, 16, 13, 2, 9, 1, 13, 2, 19, 3, 17, 9, 12, 4, 14, 13, 6, 14, 3, 5, 1, 1, 4, 16, 7, 1, 4, 16, 15, 8, 11, 18, 0, 5, 12, 17, 10, 10, 5, 14, 1, 2, 14, 17, 6, 14, 13, 19, 17, 5, 6, 10, 17, 19, 15, 11, 15, 2, 8, 6, 11, 3, 2, 6, 9, 9, 6, 5, 12, 11, 9, 1, 7, 0, 10, 18, 6, 14, 1, 3, 15, 13, 8, 4, 1, 8, 1, 15, 9, 4, 3, 3, 14, 7, 5, 0, 11, 6, 14, 8, 17, 6, 18, 0, 12, 13, 7, 7, 13, 10, 14, 15, 5, 8, 5, 16, 0, 1, 6, 3, 6, 9, 18, 17, 16, 2, 11, 18, 10, 2, 15, 1, 15, 0, 0, 4, 16, 6, 0, 13, 14, 9, 5, 1, 19, 11, 4, 9, 17, 12, 9, 15, 3, 13, 15, 2, 3, 13, 5, 9, 9, 19, 1, 5, 1, 10, 0, 7, 6, 15, 14, 8, 7, 12, 3, 9, 17, 4, 18, 13, 7, 14, 6, 0, 14, 15, 5, 2, 2, 7, 6, 2, 14, 14, 11, 18, 10, 12, 8, 11, 17, 9, 5, 7, 11, 9, 4, 9, 12, 17, 11, 11, 13, 6, 13, 0, 0, 7, 19, 11, 18, 5, 2, 7, 12, 11, 19, 8, 17, 3, 10, 1, 19, 3, 2, 3, 11, 3, 7, 3, 7, 8, 4, 4, 17, 19, 17, 15, 18, 5, 9, 12, 3, 18, 16, 19, 16, 18, 11, 7, 15, 6, 16, 10, 13, 18, 2, 10, 14, 19, 2, 14, 17, 11, 8, 7, 12, 16, 0, 19, 13, 16, 18, 6, 9, 14, 14, 3, 13, 15, 8, 11, 13, 17, 2, 1, 6, 0, 8, 0, 6, 0, 11, 9, 16, 11, 6, 4, 16, 19, 16, 2, 18, 6, 9, 13, 1, 16, 7, 5, 6, 1, 12, 17, 6, 6, 14, 3, 6, 3, 5, 10, 18, 0, 0, 15, 2, 8, 18, 15, 4, 4, 15, 14, 6, 0, 2, 7, 13, 8, 7, 2, 19, 12, 17, 2, 2, 18, 5, 1, 17, 6, 19, 10, 8, 18, 18, 15, 19, 15, 9, 0, 13, 11, 12, 4, 5, 15, 3, 0, 8, 11, 6, 19, 15, 5, 0, 2, 1, 4, 5, 5, 6, 14, 7, 13, 9, 19, 11, 0, 1, 8, 3, 2, 8, 4, 5, 7, 9, 10, 8, 6, 14, 8, 2, 18, 3, 15, 8, 7, 11, 17, 4, 3, 16, 13, 9, 14, 2, 7, 13, 5, 15, 1, 2, 11, 5, 4, 17, 11, 9, 15, 6, 16, 5, 11, 4, 5, 18, 5, 15, 17, 11, 5, 2, 12, 17, 4, 1, 10, 5, 9, 4, 1, 10, 9, 14, 4, 12, 15, 7, 4, 12, 1, 17, 7, 16, 9, 4, 16, 18, 16, 0, 6, 2, 0, 3, 18, 5, 17, 8, 8, 7, 6, 4, 8, 5, 13, 14, 3, 11, 16, 4, 3, 15, 1, 14, 8, 8, 7, 17, 5, 17, 10, 10, 16, 2, 1, 9, 18, 8, 19, 2, 7, 2, 16, 18, 1, 12, 8, 6, 16, 10, 4, 19, 5, 15, 8, 11, 5, 11, 4, 16, 0, 6, 1, 8, 15, 3, 16, 0, 8, 12, 19, 4, 5, 16, 6, 9, 17, 13, 8, 12, 12, 2, 10, 2, 4, 9, 7, 8, 13, 14, 8, 2, 18, 3, 5, 13, 10, 4, 8, 12, 11, 14, 19, 13, 3, 7, 5, 12, 15, 10, 19, 7, 0, 10, 16, 17, 14, 18, 10, 11, 13, 4, 3, 5, 13, 4, 14, 6, 18, 11, 0, 10, 7, 3, 8, 16, 8, 7, 4, 11, 9, 15, 7, 10, 13, 9, 14, 8, 9, 3, 6, 19, 9, 7, 2, 7, 7, 10, 16, 3, 11, 5, 9, 11, 17, 15, 4, 12, 12, 16, 11, 7, 5, 8, 5, 12, 18, 13, 17, 2, 16, 10, 9, 9, 6, 7, 12, 5, 12, 10, 15, 18, 1, 1, 7, 10, 12, 13, 13, 13, 14, 7, 8, 18, 7, 12, 18, 8, 7, 5, 17, 3, 18, 7, 0, 10, 7, 19, 6, 17, 7, 19, 8, 19, 11, 0, 1, 9, 14, 0, 12, 6, 1, 11, 13, 15, 2, 13, 9, 8, 13, 17, 13, 6, 4, 11, 17, 6, 6, 15, 15, 7, 4, 8, 7, 12, 8, 6, 11, 13, 13, 5, 5, 4, 16, 15, 4, 8, 6, 7, 1, 3, 3, 17, 18, 9, 16, 14, 0, 1, 8, 3, 18, 4, 19, 14, 19, 17, 12, 15, 15, 7, 9, 6, 1, 8, 7, 4, 2, 17, 12, 19, 1, 5, 4, 5, 0, 7, 13, 8, 2, 7, 15, 11, 1, 12, 9, 12, 6, 15, 15, 5, 0, 9, 3, 6, 16, 7, 17, 14, 10, 17, 1, 6, 0, 17, 10, 15, 12, 5, 1, 3, 16, 14, 3, 8, 19, 6, 6, 6, 1, 10, 6, 10, 14, 10, 8, 1, 8, 16, 6, 1, 1, 13, 19, 13, 7, 12, 16, 6, 4, 18, 6, 3, 7, 7, 8, 3, 5, 4, 10, 11, 9, 13, 18, 4, 5, 14, 0, 0, 1, 9, 17, 10, 11, 6, 10, 17, 16, 0, 11, 8, 1, 14, 16, 0, 7, 5, 12, 13, 17, 9, 12, 3, 17, 7, 4, 2, 0, 10, 8, 14, 11, 10, 5, 3, 19, 11, 17, 19, 13, 6, 7, 3, 4, 8, 7, 18, 13, 1, 7, 9, 12, 9, 9, 12, 19, 2, 2, 9, 18, 15, 12, 10, 14, 1, 8, 15, 12, 8, 15, 14, 10, 3, 16, 1, 13, 15, 15, 14, 7, 2, 6, 17, 0, 8, 12, 8, 13, 8, 14, 14, 5, 2, 11, 10, 6, 5, 9, 5, 13, 10, 17, 7, 17, 9, 3, 4, 3, 8, 2, 10, 16, 12, 19, 17, 13, 2, 3, 12, 10, 13, 2, 9, 16, 9, 11, 17, 12, 11, 4, 6, 8, 6, 16, 15, 8, 3, 6, 6, 17, 17, 2, 19, 15, 14, 2, 12, 13, 14, 7, 13, 12, 3, 0, 8, 12, 9, 2, 11, 9, 17, 7, 8, 4, 17, 19, 7, 2, 16, 3, 4, 15, 12, 6, 3, 6, 7, 4, 14, 16, 6, 1, 6, 8, 10, 3, 17, 13, 17, 8, 13, 12, 7, 19, 15, 2, 18, 18, 5, 16, 2, 16, 5, 18, 7, 18, 16, 16, 14, 11, 7, 15, 5, 12, 2, 16, 2, 13, 1, 18, 16, 0, 0, 1, 6, 1, 12, 7, 10, 18, 11, 10, 15, 11, 2, 6, 14, 17, 19, 9, 4, 9, 15, 11, 16, 17, 10, 16, 15, 17, 3, 7, 9, 9, 9, 19, 8, 17, 18, 7, 14, 14, 11, 5, 3, 5, 17, 16, 12, 15, 13, 7, 8, 16, 13, 12, 18, 17, 2, 14, 3, 19, 1, 18, 16, 10, 1, 2, 11, 6, 18, 16, 11, 6, 5, 3, 13, 5, 3, 7, 0, 17, 15, 16, 13, 16, 7, 15, 16, 4, 12, 0, 1, 19, 13, 12, 4, 7, 3, 19, 4, 5, 1, 1, 4, 7, 4, 8, 8, 9, 1, 0, 14, 4, 6, 2, 16, 9, 10, 9, 13, 15, 12, 10, 13, 12, 10, 2, 18, 13, 17, 14, 1, 6, 15, 5, 7, 5, 14, 1, 3, 9, 13, 17, 13, 16, 13, 8, 2, 12, 6, 3, 8, 4, 10, 15, 11, 7, 6, 9, 11, 2, 10, 7, 14, 10, 9, 4, 17, 2, 8, 14, 11, 1, 18, 18, 15, 6, 10, 2, 4, 5, 5, 14, 16, 0, 17, 12, 7, 18, 13, 14, 4, 5, 12, 5, 1, 11, 19, 2, 8, 10, 19, 8, 4, 13, 5, 0, 13, 12, 10, 13, 14, 9, 13, 15, 7, 9, 8, 17, 8, 1, 3, 7, 6, 13, 10, 5, 5, 17, 12, 9, 4, 18, 5, 13, 4, 17, 17, 5, 14, 1, 9, 7, 1, 17, 10, 8, 0, 13, 15, 8, 2, 8, 5, 10, 9, 8, 13, 14, 7, 12, 2, 6, 12, 9, 10, 16, 1, 11, 2, 8, 17, 3, 1, 2, 3, 10, 19, 0, 1, 1, 5, 13, 10, 10, 13, 14, 11, 12, 19, 2, 2, 0, 11, 12, 4, 12, 12, 1, 12, 14, 7, 14, 1, 14, 7, 19, 19, 12, 1, 10, 11, 18, 16, 15, 19, 4, 15, 5, 15, 5, 6, 3, 17, 11, 9, 10, 9, 11, 18, 11, 16, 7, 9, 16, 15, 16, 0, 18, 8, 14, 10, 9, 12, 1, 18, 9, 19, 8, 1, 10, 19, 3, 11, 15, 0, 4, 13, 15, 5, 3, 17, 17, 17, 11, 10, 14, 11, 13, 7, 13, 5, 9, 11, 12, 0, 10, 14, 5, 4, 9, 9, 7, 2, 9, 9, 12, 10, 0, 1, 19, 14, 14, 12, 16, 4, 19, 6, 5, 15, 2, 16, 3, 4, 6, 3, 10, 13, 2, 1, 17, 3, 11, 1, 7, 17, 7, 8, 3, 9, 18, 15, 3, 10, 18, 11, 6, 17, 14, 4, 8, 5, 9, 9, 19, 6, 17, 7, 15, 8, 2, 8, 2, 5, 11, 7, 0, 8, 18, 12, 10, 11, 16, 15, 10, 3, 9, 13, 14, 2, 13, 9, 16, 16, 1, 4, 17, 15, 11, 2, 7, 19, 6, 6, 18, 10, 2, 17, 11, 8, 10, 10, 9, 5, 11, 16, 7, 17, 12, 11, 14, 0, 7, 2, 16, 16, 6, 14, 14, 3, 9, 15, 9, 6, 14, 13, 8, 11, 16, 4, 16, 5, 4, 9, 15, 6, 0, 4, 6, 2, 16, 9, 9, 17, 18, 9, 9, 12, 7, 5, 12, 19, 12, 14, 9, 19, 11, 12, 7, 17, 18, 11, 2, 11, 16, 14, 9, 8, 18, 18, 6, 10, 0, 12, 19, 16, 17, 14, 11, 7, 1, 8, 9, 9, 7, 2, 10, 14, 3, 13, 1, 11, 12, 6, 9, 6, 11, 17, 9, 1, 19, 6, 17, 0, 14, 16, 17, 1, 3, 4, 1, 15, 6, 11, 3, 17, 9, 1, 8, 11, 6, 17, 14, 4, 7, 6, 6, 3, 10, 6, 0, 9, 16, 10, 9, 1, 13, 11, 18, 0, 8, 5, 6, 14, 15, 2, 3, 10, 7, 6, 17, 16, 0, 3, 12, 6, 18, 12, 18, 7, 2, 2, 18, 4, 16, 11, 12, 13, 4, 13, 3, 18, 17, 7, 14, 4, 9, 6, 15]\n",
            "[12, 3, 0, 17, 0, 13, 15, 3, 5, 1, 2, 1, 17, 8, 0, 3, 2, 1, 6, 16, 15, 6, 17, 14, 3, 3, 11, 7, 7, 3, 5, 6, 4, 3, 14, 1, 9, 4, 4, 1, 17, 10, 8, 1, 11, 1, 14, 3, 11, 11, 8, 8, 13, 9, 12, 19, 10, 17, 16, 14, 8, 10, 17, 18, 2, 16, 0, 2, 14, 9, 8, 6, 10, 19, 3, 7, 19, 7, 18, 9, 6, 18, 17, 4, 12, 10, 16, 15, 8, 4, 14, 3, 16, 19, 16, 15, 9, 2, 3, 16, 2, 10, 14, 15, 3, 16, 10, 4, 14, 12, 8, 3, 17, 12, 8, 14, 9, 5, 9, 17, 12, 4, 3, 5, 9, 13, 16, 8, 3, 1, 16, 11, 6, 13, 10, 3, 5, 1, 3, 12, 10, 14, 13, 7, 10, 6, 10, 12, 14, 13, 13, 4, 15, 6, 6, 14, 18, 2, 10, 4, 11, 17, 9, 12, 3, 9, 2, 16, 6, 7, 1, 7, 12, 8, 4, 12, 10, 0, 10, 1, 3, 9, 5, 0, 4, 16, 8, 4, 8, 12, 13, 11, 13, 18, 3, 15, 16, 13, 3, 19, 15, 7, 4, 6, 15, 12, 9, 15, 16, 15, 2, 18, 14, 0, 16, 2, 1, 10, 2, 19, 7, 16, 3, 6, 14, 2, 7, 15, 5, 7, 17, 1, 2, 17, 15, 4, 15, 9, 0, 7, 3, 7, 8, 10, 14, 12, 14, 12, 11, 8, 15, 6, 3, 11, 6, 17, 7, 8, 10, 11, 4, 2, 5, 8, 1, 12, 18, 1, 13, 12, 8, 16, 16, 8, 12, 15, 5, 3, 11, 1, 15, 10, 3, 2, 14, 13, 17, 19, 6, 18, 6, 3, 15, 8, 15, 10, 8, 3, 9, 13, 10, 15, 15, 6, 19, 12, 16, 7, 17, 18, 10, 6, 4, 10, 7, 4, 0, 19, 9, 2, 15, 13, 11, 8, 5, 13, 16, 12, 0, 14, 16, 10, 4, 14, 15, 14, 16, 11, 14, 13, 3, 10, 13, 7, 13, 16, 6, 15, 9, 2, 12, 16, 12, 11, 3, 7, 18, 0, 13, 15, 8, 14, 7, 10, 5, 0, 1, 4, 0, 6, 18, 8, 4, 11, 2, 14, 6, 18, 9, 10, 3, 12, 13, 7, 2, 18, 15, 12, 7, 11, 7, 2, 4, 14, 9, 7, 2, 6, 2, 4, 0, 19, 2, 16, 3, 8, 4, 5, 3, 8, 5, 7, 19, 13, 12, 11, 15, 6, 10, 11, 15, 9, 3, 2, 1, 0, 5, 1, 7, 16, 2, 8, 13, 15, 3, 1, 3, 14, 17, 9, 15, 0, 9, 4, 4, 14, 1, 18, 11, 7, 13, 19, 2, 3, 9, 15, 3, 19, 11, 8, 15, 13, 11, 1, 15, 16, 19, 9, 14, 17, 0, 18, 8, 6, 15, 18, 12, 19, 4, 9, 14, 12, 16, 6, 13, 2, 2, 5, 9, 3, 4, 6, 3, 7, 13, 2, 13, 19, 15, 12, 9, 18, 9, 15, 0, 8, 7, 14, 15, 6, 14, 9, 0, 18, 9, 2, 18, 17, 8, 5, 10, 10, 15, 5, 8, 18, 17, 14, 13, 10, 19, 1, 16, 13, 7, 13, 11, 9, 3, 4, 5, 10, 17, 3, 13, 3, 17, 6, 16, 8, 4, 4, 19, 11, 10, 11, 2, 0, 10, 15, 8, 0, 12, 14, 9, 4, 5, 16, 6, 11, 5, 17, 4, 17, 8, 4, 19, 14, 3, 12, 16, 10, 10, 5, 1, 0, 6, 17, 9, 3, 16, 11, 13, 16, 10, 1, 18, 9, 14, 16, 14, 10, 10, 16, 11, 8, 3, 9, 17, 5, 9, 5, 15, 16, 10, 0, 2, 7, 7, 9, 9, 14, 16, 15, 15, 17, 7, 14, 3, 19, 14, 3, 5, 5, 6, 15, 11, 5, 10, 17, 6, 9, 9, 10, 1, 12, 8, 2, 6, 1, 15, 17, 6, 6, 10, 7, 2, 5, 2, 5, 16, 7, 8, 5, 10, 0, 8, 7, 9, 11, 2, 15, 10, 13, 2, 17, 1, 12, 11, 3, 8, 14, 2, 9, 2, 7, 3, 13, 3, 2, 5, 13, 16, 13, 0, 15, 9, 11, 16, 16, 5, 3, 12, 5, 12, 13, 0, 16, 4, 12, 19, 19, 15, 8, 10, 5, 15, 11, 2, 1, 12, 12, 16, 8, 9, 0, 7, 12, 6, 4, 14, 12, 10, 6, 7, 5, 10, 11, 8, 2, 2, 1, 14, 4, 17, 7, 17, 11, 5, 8, 10, 12, 15, 16, 10, 4, 10, 7, 5, 15, 5, 7, 7, 17, 5, 10, 14, 10, 4, 8, 19, 15, 18, 13, 7, 17, 14, 14, 12, 9, 9, 5, 16, 3, 13, 4, 5, 4, 18, 11, 18, 4, 4, 0, 1, 9, 9, 4, 18, 9, 8, 18, 5, 14, 4, 10, 11, 17, 16, 16, 14, 16, 2, 12, 6, 16, 11, 2, 2, 12, 17, 0, 17, 6, 15, 11, 11, 17, 12, 4, 2, 18, 19, 17, 6, 10, 4, 14, 8, 1, 5, 15, 10, 6, 10, 16, 4, 17, 9, 3, 9, 11, 4, 1, 10, 3, 7, 19, 14, 3, 15, 10, 10, 19, 8, 14, 14, 16, 2, 14, 5, 13, 15, 5, 1, 16, 3, 16, 2, 15, 6, 8, 17, 6, 6, 10, 8, 2, 14, 12, 1, 14, 10, 9, 11, 3, 4, 17, 9, 16, 5, 13, 14, 7, 15, 17, 14, 8, 3, 4, 9, 14, 4, 2, 9, 10, 6, 4, 17, 5, 19, 1, 12, 18, 11, 4, 8, 6, 19, 0, 10, 17, 11, 7, 6, 10, 11, 15, 8, 18, 17, 4, 5, 10, 17, 0, 15, 2, 2, 18, 0, 13, 17, 2, 2, 10, 14, 15, 13, 5, 9, 6, 6, 12, 8, 11, 7, 0, 6, 12, 9, 8, 12, 0, 4, 7, 13, 6, 1, 6, 16, 19, 19, 10, 15, 3, 17, 0, 15, 15, 4, 6, 2, 15, 0, 8, 13, 9, 18, 7, 9, 16, 18, 12, 5, 6, 11, 15, 3, 10, 19, 14, 15, 2, 9, 10, 15, 8, 10, 3, 19, 14, 3, 4, 10, 9, 12, 1, 16, 8, 1, 5, 2, 8, 14, 2, 0, 14, 15, 13, 0, 8, 13, 13, 11, 4, 5, 13, 10, 14, 16, 15, 12, 14, 15, 7, 19, 11, 15, 11, 9, 7, 19, 19, 19, 15, 1, 3, 6, 8, 8, 13, 0, 2, 11, 1, 6, 16, 14, 13, 8, 7, 7, 0, 17, 8, 4, 3, 1, 0, 1, 17, 1, 10, 16, 6, 9, 17, 6, 5, 15, 4, 6, 3, 5, 5, 13, 3, 5, 6, 11, 15, 5, 16, 14, 16, 15, 16, 12, 12, 13, 16, 3, 15, 1, 13, 13, 13, 8, 5, 11, 5, 9, 0, 5, 4, 7, 9, 1, 5, 6, 10, 7, 11, 12, 12, 1, 13, 12, 0, 14, 6, 3, 11, 12, 2, 11, 14, 10, 16, 13, 11, 16, 9, 9, 13, 2, 7, 0, 1, 9, 6, 11, 2, 18, 17, 3, 10, 17, 3, 9, 16, 6, 12, 3, 1, 1, 1, 16, 2, 3, 17, 1, 17, 5, 6, 11, 6, 14, 19, 4, 8, 2, 0, 6, 11, 15, 19, 15, 3, 7, 11, 11, 3, 4, 11, 10, 12, 19, 1, 10, 2, 10, 15, 0, 15, 9, 3, 9, 17, 13, 9, 7, 6, 17, 19, 3, 8, 3, 2, 6, 15, 1, 7, 5, 9, 19, 17, 2, 2, 2, 15, 7, 15, 12, 5, 15, 6, 2, 11, 7, 1, 17, 15, 12, 12, 3, 12, 19, 15, 8, 5, 1, 1, 2, 11, 1, 9, 17, 2, 15, 13, 0, 15, 4, 4, 16, 12, 9, 15, 13, 8, 12, 3, 2, 5, 14, 2, 7, 14, 12, 19, 18, 2, 10, 10, 11, 17, 2, 3, 12, 12, 5, 7, 0, 2, 18, 16, 17, 6, 16, 10, 16, 11, 8, 7, 8, 12, 9, 14, 8, 14, 4, 1, 6, 16, 2, 4, 15, 4, 19, 15, 15, 6, 6, 7, 15, 17, 0, 4, 9, 7, 1, 15, 0, 11, 4, 17, 14, 0, 3, 3, 11, 12, 0, 11, 11, 11, 15, 4, 16, 7, 7, 5, 9, 1, 10, 5, 11, 7, 12, 17, 2, 16, 12, 5, 16, 8, 0, 6, 13, 2, 7, 0, 12, 3, 5, 13, 2, 14, 4, 6, 7, 10, 2, 5, 11, 19, 14, 11, 17, 7, 4, 10, 9, 18, 14, 2, 1, 13, 12, 16, 17, 9, 10, 7, 19, 19, 15, 9, 11, 9, 12, 3, 10, 13, 15, 12, 17, 7, 8, 4, 1, 6, 11, 1, 14, 14, 2, 16, 14, 18, 3, 11, 4, 14, 8, 4, 14, 6, 10, 17, 5, 4, 6, 3, 11, 18, 2, 7, 11, 1, 11, 9, 6, 5, 12, 4, 17, 16, 18, 13, 0, 16, 9, 10, 6, 6, 19, 18, 13, 0, 4, 3, 19, 9, 13, 17, 5, 3, 18, 10, 1, 16, 1, 12, 3, 3, 6, 1, 10, 3, 14, 2, 7, 19, 4, 11, 19, 15, 8, 19, 1, 9, 13, 4, 17, 7, 3, 7, 6, 14, 0, 14, 19, 16, 6, 8, 15, 19, 1, 16, 10, 2, 10, 16, 2, 9, 18, 0, 8, 11, 5, 15, 17, 12, 16, 6, 3, 2, 14, 9, 4, 2, 14, 1, 3, 8, 18, 3, 13, 6, 11, 18, 6, 4, 2, 6, 5, 2, 3, 5, 12, 10, 7, 17, 8, 13, 7, 9, 2, 0, 8, 1, 9, 18, 2, 9, 9, 9, 2, 15, 11, 8, 17, 8, 0, 5, 11, 18, 11, 9, 9, 16, 0, 3, 13, 2, 11, 17, 1, 16, 6, 1, 6, 13, 6, 15, 2, 19, 2, 8, 15, 13, 15, 11, 5, 4, 6, 11, 3, 3, 3, 8, 16, 6, 6, 1, 16, 14, 13, 12, 16, 2, 5, 18, 1, 17, 10, 3, 8, 13, 11, 0, 13, 16, 10, 12, 4, 11, 2, 18, 19, 1, 16, 13, 14, 12, 10, 10, 11, 11, 9, 6, 13, 11, 15, 6, 7, 15, 15, 14, 8, 2, 13, 2, 16, 6, 2, 17, 9, 12, 0, 16, 5, 17, 14, 12, 3, 5, 3, 0, 13, 1, 11, 6, 15, 1, 6, 10, 0, 8, 12, 5, 17, 12, 2, 4, 8, 16, 16, 4, 18, 4, 9, 16, 2, 13, 17, 9, 17, 18, 1, 6, 1, 3, 0, 2, 4, 0, 14, 12, 12, 15, 3, 18, 3, 3, 4, 11, 10, 2, 13, 17, 9, 12, 1, 5, 17, 6, 6, 17, 10, 17, 3, 14, 6, 17, 18, 3, 9, 6, 15, 18, 14, 7, 11, 11, 10, 13, 8, 3, 7, 10, 2, 8, 13, 7, 3, 2, 6, 1, 3, 12, 16, 16, 3, 3, 11, 4, 16, 16, 16, 18, 17, 7, 4, 1, 11, 14, 6, 15, 18, 10, 12, 10, 11, 0, 16, 17, 9, 15, 8, 9, 2, 9, 8, 19, 10, 15, 16, 12, 0, 16, 16, 0, 6, 1, 15, 15, 11, 18, 16, 2, 13, 15, 18, 12, 3, 9, 7, 15, 7, 3, 0, 11, 15, 4, 5, 17, 2, 1, 11, 11, 0, 15, 6, 6, 8, 10, 13, 1, 8, 18, 14, 6, 1, 13, 16, 12, 6, 0, 16, 4, 4, 1, 14, 10, 2, 6, 5, 13, 16, 3, 9, 14, 4, 12, 14, 19, 0, 8, 14, 17, 3, 6, 0, 0, 13, 5, 17, 7, 11, 7, 10, 17, 15, 2, 3, 12, 4, 19, 11, 5, 6, 8, 11, 12, 16, 3, 3, 5, 14, 16, 10, 6, 9, 7, 13, 16, 2, 1, 4, 8, 14, 11, 11, 9, 6, 19, 17, 2, 12, 10, 6, 5, 14, 7, 9, 11, 1, 3, 11, 6, 4, 4, 9, 16, 3, 11, 2, 16, 8, 10, 10, 9, 6, 7, 0, 7, 3, 15, 3, 14, 16, 3, 16, 11, 3, 2, 14, 13, 18, 0, 14, 1, 11, 14, 15, 15, 9, 5, 4, 12, 0, 2, 9, 9, 11, 2, 17, 17, 9, 11, 9, 13, 19, 6, 12, 4, 8, 19, 12, 16, 16, 5, 2, 3, 19, 17, 16, 2, 14, 4, 9, 11, 0, 5, 17, 4, 9, 12, 15, 6, 6, 19, 7, 0, 15, 3, 9, 7, 14, 12, 17, 14, 10, 13, 0, 4, 0, 4, 6, 6, 17, 16, 1, 13, 13, 4, 2, 15, 1, 18, 4, 8, 14, 4, 11, 3, 6, 13, 9, 12, 4, 18, 5, 10, 13, 10, 13, 2, 6, 13, 16, 1, 17, 9, 10, 0, 0, 6, 13, 18, 8, 6, 17, 0, 18, 13, 0, 0, 4, 5, 13, 14, 10, 4, 12, 12, 9, 13, 14, 1, 6, 16, 10, 13, 3, 15, 17, 12, 7, 2, 15, 5, 6, 3, 2, 7, 16, 7, 14, 7, 15, 15, 7, 6, 0, 5, 3, 12, 13, 0, 4, 8, 10, 16, 16, 13, 1, 16, 0, 13, 13, 16, 13, 13, 9, 2, 14, 2, 8, 4, 4, 3, 2, 3, 2, 13, 9, 1, 15, 10, 18, 11, 16, 8, 11, 9, 5, 18, 14, 18, 10, 8, 1, 7, 9, 9, 1, 10, 5, 9, 17, 15, 16, 8, 7, 18, 7, 4, 19, 1, 10, 18, 19, 12, 16, 0, 4, 15, 2, 19, 17, 12, 11, 17, 6, 16, 12, 14, 15, 2, 17, 12, 17, 11, 5, 15, 9, 13, 12, 1, 13, 8, 3, 12, 0, 13, 12, 18, 5, 19, 6, 8, 7, 2, 18, 6, 4, 0, 0, 3, 15, 2, 17, 7, 9, 12, 13, 2, 5, 4, 8, 10, 5, 13, 5, 11, 5, 7, 0, 11, 11, 1, 3, 11, 8, 12, 15, 17, 2, 2, 19, 17, 5, 4, 15, 5, 3, 16, 10, 12, 3, 12, 2, 4, 0, 19, 15, 5, 8, 1, 13, 8, 2, 11, 4, 6, 3, 10, 1, 8, 16, 7, 8, 1, 15, 7, 2, 17, 8, 17, 5, 12, 14, 4, 15, 10, 13, 3, 10, 18, 2, 0, 12, 10, 11, 15, 3, 8, 1, 13, 2, 1, 7, 2, 6, 5, 7, 13, 9, 2, 16, 14, 6, 3, 7, 7, 2, 12, 5, 19, 4, 15, 15, 12, 6, 15, 12, 4, 2, 10, 10, 17, 12, 4, 16, 2, 3, 7, 5, 12, 9, 18, 14, 18, 16, 7, 12, 4, 7, 4, 10, 9, 12, 5, 0, 8, 15, 19, 14, 6, 5, 5, 6, 12, 15, 7, 17, 12, 14, 8, 0, 3, 13, 18, 12, 5, 4, 18, 15, 10, 17, 1, 4, 5, 14, 3, 4, 2, 12, 19, 13, 19, 9, 9, 4, 7, 12, 7, 5, 13, 18, 2, 6, 13, 3, 0, 1, 1, 4, 11, 9, 12, 2, 13, 9, 9, 8, 1, 3, 0, 16, 3, 0, 14, 5, 5, 16, 6, 16, 7, 2, 14, 1, 9, 10, 11, 15, 11, 17, 10, 8, 7, 5, 16, 16, 16, 13, 9, 8, 5, 17, 11, 18, 14, 12, 8, 5, 15, 8, 9, 2, 1, 5, 15, 2, 3, 8, 6, 4, 5, 15, 13, 15, 13, 15, 15, 7, 7, 5, 16, 6, 17, 2, 7, 15, 10, 13, 18, 19, 2, 10, 0, 13, 5, 9, 1, 6, 3, 1, 17, 16, 18, 1, 9, 14, 8, 8, 13, 4, 9, 11, 12, 14, 8, 3, 13, 3, 7, 2, 2, 2, 4, 11, 11, 9, 19, 15, 17, 8, 5, 1, 6, 10, 19, 12, 6, 16, 7, 12, 7, 9, 4, 10, 16, 8, 14, 8, 1, 5, 9, 16, 7, 10, 18, 6, 3, 15, 13, 13, 14, 11, 2, 1, 3, 4, 6, 19, 4, 10, 10, 10, 0, 3, 11, 8, 17, 13, 9, 14, 10, 7, 15, 7, 18, 15, 14, 10, 4, 19, 14, 9, 4, 9, 0, 6, 3, 12, 1, 15, 12, 1, 11, 5, 14, 16, 8, 15, 19, 17, 5, 17, 9, 6, 0, 5, 14, 11, 2, 12, 7, 15, 2, 4, 17, 7, 6, 1, 16, 16, 4, 3, 16, 1, 11, 14, 8, 6, 9, 4, 11, 7, 9, 14, 5, 5, 15, 13, 5, 15, 16, 4, 14, 2, 9, 15, 15, 16, 0, 15, 13, 18, 13, 7, 11, 19, 4, 4, 15, 10, 5, 2, 11, 7, 12, 7, 2, 15, 14, 15, 3, 6, 10, 18, 5, 9, 7, 14, 15, 14, 2, 18, 3, 0, 16, 18, 5, 17, 13, 15, 17, 17, 2, 11, 0, 8, 15, 16, 10, 12, 16, 11, 19, 9, 12, 3, 3, 15, 10, 11, 6, 10, 13, 2, 12, 11, 11, 4, 7, 7, 4, 9, 7, 13, 14, 1, 14, 0, 18, 13, 9, 14, 6, 2, 15, 1, 17, 13, 0, 13, 17, 6, 10, 1, 2, 15, 19, 9, 3, 12, 13, 16, 13, 0, 3, 12, 19, 15, 7, 9, 1, 5, 6, 7, 8, 11, 7, 3, 13, 10, 15, 10, 12, 1, 8, 13, 3, 11, 7, 16, 7, 7, 8, 17, 15, 15, 10, 12, 10, 0, 1, 10, 9, 6, 4, 12, 4, 8, 10, 13, 19, 3, 18, 11, 14, 0, 7, 11, 8, 11, 5, 12, 8, 9, 6, 19, 7, 16, 0, 3, 7, 12, 17, 6, 5, 5, 1, 9, 16, 3, 14, 15, 13, 19, 11, 0, 9, 14, 9, 10, 13, 2, 5, 0, 14, 16, 5, 2, 10, 0, 14, 15, 10, 10, 11, 12, 19, 12, 3, 2, 11, 6, 5, 3, 17, 18, 3, 10, 8, 1, 16, 4, 15, 3, 14, 3, 19, 12, 18, 11, 14, 7, 4, 6, 7, 18, 9, 5, 19, 16, 10, 13, 14, 10, 10, 14, 17, 17, 19, 15, 17, 5, 9, 7, 13, 11, 3, 9, 9, 14, 6, 5, 4, 7, 9, 14, 2, 6, 3, 1, 3, 14, 1, 17, 6, 1, 7, 5, 5, 15, 10, 13, 6, 8, 6, 16, 16, 4, 5, 1, 18, 11, 2, 8, 16, 0, 10, 4, 12, 15, 2, 1, 18, 15, 4, 14, 2, 13, 12, 0, 18, 10, 4, 9, 16, 8, 6, 15, 8, 6, 9, 0, 11, 13, 17, 6, 12, 14, 19, 18, 3, 15, 19, 15, 2, 2, 10, 16, 12, 1, 6, 11, 12, 0, 16, 0, 19, 19, 8, 12, 16, 2, 11, 11, 1, 7, 6, 13, 6, 7, 10, 15, 3, 13, 14, 2, 2, 3, 3, 14, 0, 5, 3, 9, 18, 5, 16, 12, 17, 10, 3, 5, 0, 6, 12, 14, 5, 12, 14, 0, 17, 9, 8, 14, 10, 18, 11, 2, 17, 10, 2, 16, 12, 2, 6, 9, 18, 1, 16, 4, 2, 1, 2, 4, 11, 16, 19, 0, 10, 0, 2, 15, 4, 3, 2, 3, 15, 7, 12, 8, 5, 11, 12, 7, 11, 8, 17, 13, 11, 0, 19, 18, 17, 13, 5, 8, 5, 0, 19, 13, 12, 8, 17, 16, 17, 13, 0, 16, 14, 11, 12, 7, 2, 15, 15, 15, 8, 0, 5, 10, 0, 19, 14, 3, 1, 0, 5, 2, 7, 10, 17, 4, 6, 5, 1, 13, 3, 3, 9, 18, 2, 16, 17, 10, 3, 18, 4, 10, 1, 7, 16, 16, 8, 6, 3, 0, 17, 6, 11, 1, 8, 9, 0, 5, 7, 5, 14, 14, 15, 3, 7, 2, 7, 4, 13, 12, 1, 16, 1, 2, 8, 17, 17, 4, 12, 2, 14, 12, 5, 15, 4, 9, 9, 16, 7, 9, 11, 7, 3, 7, 14, 7, 16, 10, 0, 18, 3, 16, 8, 7, 18, 5, 11, 3, 12, 5, 14, 9, 2, 11, 16, 19, 8, 14, 0, 9, 10, 0, 16, 6, 2, 8, 12, 0, 11, 1, 11, 3, 11, 3, 16, 5, 2, 9, 8, 12, 3, 4, 12, 8, 6, 9, 4, 3, 16, 10, 3, 7, 15, 0, 19, 10, 14, 2, 9, 6, 6, 11, 1, 15, 1, 1, 10, 5, 15, 1, 5, 9, 8, 1, 4, 19, 16, 19, 7, 15, 12, 17, 19, 3, 16, 9, 2, 1, 0, 13, 12, 6, 8, 11, 10, 13, 2, 3, 6, 0, 3, 15, 2, 18, 0, 10, 1, 2, 9, 1, 3, 2, 0, 0, 6, 12, 4, 4, 7, 6, 17, 0, 6, 8, 3, 17, 6, 18, 15, 0, 2, 2, 9, 12, 4, 15, 5, 7, 1, 1, 3, 11, 8, 15, 7, 10, 14, 3, 6, 8, 15, 4, 17, 18, 12, 7, 11, 18, 14, 15, 4, 12, 0, 3, 6, 2, 0, 6, 19, 16, 16, 16, 15, 10, 2, 5, 19, 16, 11, 11, 17, 9, 18, 12, 6, 17, 7, 17, 4, 0, 3, 10, 15, 15, 16, 4, 15, 14, 18, 19, 2, 15, 3, 8, 11, 6, 1, 12, 6, 10, 3, 2, 7, 2, 18, 2, 1, 4, 8, 0, 5, 8, 7, 17, 3, 17, 6, 7, 15, 4, 2, 4, 7, 5, 6, 11, 13, 0, 13, 15, 16, 7, 5, 10, 15, 2, 11, 9, 13, 8, 15, 10, 5, 7, 13, 18, 3, 9, 1, 13, 5, 8, 6, 9, 12, 15, 19, 0, 9, 2, 14, 10, 6, 5, 7, 6, 11, 3, 13, 19, 1, 0, 2, 18, 15, 16, 4, 5, 13, 3, 17, 19, 5, 12, 18, 6, 1, 6, 0, 11, 18, 14, 6, 7, 13, 17, 13, 16, 4, 5, 14, 8, 19, 15, 2, 1, 11, 15, 6, 10, 4, 14, 16, 11, 13, 19, 13, 15, 10, 6, 10, 14, 17, 18, 16, 15, 8, 3, 17, 5, 16, 12, 18, 3, 2, 8, 3, 18, 2, 17, 2, 6, 12, 11, 7, 13, 10, 19, 11, 2, 8, 6, 17, 18, 3, 16, 4, 17, 7, 0, 0, 10, 1, 10, 2, 8, 6, 12, 12, 1, 2, 16, 12, 16, 11, 16, 13, 4, 5, 7, 15, 14, 6, 15, 0, 1, 9, 10, 1, 5, 17, 5, 14, 6, 18, 15, 5, 18, 18, 7, 15, 10, 1, 12, 3, 5, 1, 15, 7, 3, 10, 3, 16, 3, 7, 15, 6, 11, 16, 7, 1, 3, 12, 15, 9, 14, 8, 19, 17, 2, 2, 6, 1, 2, 15, 14, 16, 12, 14, 12, 11, 10, 15, 14, 15, 10, 12, 8, 18, 12, 7, 7, 5, 15, 10, 11, 12, 9, 6, 15, 15, 8, 19, 3, 6, 16, 19, 10, 7, 14, 15, 3, 15, 10, 2, 8, 10, 0, 1, 15, 3, 10, 0, 9, 15, 6, 0, 1, 13, 12, 1, 12, 16, 5, 0, 9, 2, 10, 5, 0, 8, 18, 2, 16, 2, 2, 16, 2, 2, 16, 0, 9, 2, 3, 6, 15, 7, 11, 3, 18, 14, 17, 9, 15, 2, 8, 6, 7, 14, 6, 3, 9, 5, 18, 13, 18, 17, 18, 7, 15, 10, 17, 16, 16, 16, 16, 7, 10, 17, 14, 17, 10, 11, 5, 6, 17, 6, 1, 3, 9, 4, 1, 12, 17, 4, 1, 7, 15, 13, 10, 11, 1, 7, 6, 9, 16, 11, 2, 10, 11, 17, 15, 7, 16, 11, 8, 3, 16, 7, 13, 4, 10, 18, 13, 14, 18, 9, 10, 6, 4, 6, 1, 13, 5, 18, 7, 1, 5, 11, 11, 13, 15, 1, 2, 16, 15, 12, 15, 11, 19, 3, 19, 15, 3, 11, 8, 9, 15, 15, 4, 5, 11, 2, 1, 10, 0, 6, 16, 15, 7, 3, 2, 6, 17, 7, 13, 3, 0, 7, 7, 11, 9, 6, 15, 4, 0, 4, 19, 18, 15, 16, 16, 0, 13, 7, 15, 2, 4, 8, 2, 6, 0, 0, 5, 10, 6, 17, 6, 3, 15, 7, 7, 2, 12, 15, 4, 11, 12, 4, 16, 18, 7, 1, 10, 5, 13, 3, 19, 6, 16, 11, 17, 12, 11, 7, 5, 0, 10, 4, 3, 6, 14, 8, 5, 14, 3, 3, 3, 18, 2, 19, 13, 7, 14, 4, 6, 0, 4, 2, 5, 5, 4, 13, 17, 16, 4, 19, 14, 19, 11, 14, 11, 12, 11, 3, 7, 19, 17, 8, 6, 3, 15, 3, 16, 3, 19, 3, 8, 3, 19, 7, 18, 11, 5, 14, 19, 2, 2, 2, 15, 16, 15, 16, 12, 2, 15, 7, 5, 7, 6, 15, 15, 6, 17, 17, 15, 10, 10, 16, 14, 11, 10, 3, 14, 3, 11, 3, 15, 12, 5, 0, 4, 16, 15, 11, 7, 9, 17, 8, 14, 15, 3, 16, 12, 15, 6, 1, 4, 10, 11, 0, 2, 0, 8, 6, 11, 9, 15, 12, 6, 17, 10, 3, 17, 10, 12, 1, 7, 5, 18, 15, 8, 19, 0, 8, 9, 4, 7, 10, 7, 10, 8, 16, 14, 16, 10, 15, 19, 6, 17, 14, 13, 13, 17, 15, 9, 8, 11, 7, 18, 5, 11, 14, 3, 16, 10, 16, 3, 1, 4, 2, 8, 9, 16, 11, 11, 19, 5, 8, 17, 8, 2, 3, 1, 19, 3, 2, 6, 11, 1, 2, 14, 0, 6, 11, 13, 10, 14, 14, 5, 9, 0, 10, 1, 8, 12, 15, 18, 13, 12, 7, 17, 16, 17, 1, 4, 7, 13, 6, 13, 12, 9, 4, 13, 10, 13, 7, 4, 13, 3, 12, 14, 12, 2, 1, 13, 17, 3, 19, 11, 14, 13, 17, 6, 0, 19, 11, 14, 12, 15, 15, 12, 2, 19, 18, 18, 13, 15, 3, 3, 6, 1, 4, 5, 1, 1, 14, 18, 9, 12, 14, 11, 10, 18, 14, 6, 8, 5, 0, 5, 5, 1, 1, 1, 12, 11, 4, 12, 2, 6, 0, 13, 1, 6, 18, 3, 9, 1, 12, 13, 12, 5, 4, 7, 2, 10, 12, 11, 11, 15, 6, 6, 1, 4, 15, 1, 13, 2, 4, 8, 13, 17, 12, 12, 2, 13, 14, 16, 6, 16, 6, 1, 2, 1, 13, 3, 15, 1, 11, 4, 9, 3, 3, 18, 15, 11, 19, 10, 10, 1, 15, 13, 8, 9, 4, 11, 3, 6, 17, 14, 14, 3, 14, 1, 16, 5, 17, 10, 1, 19, 4, 13, 3, 11, 3, 1, 13, 17, 11, 3, 14, 1, 1, 10, 11, 17, 16, 19, 10, 19, 11, 7, 1, 11, 16, 4, 1, 5, 13, 17, 18, 12, 7, 15, 7, 15, 0, 2, 14, 5, 16, 6, 12, 15, 3, 9, 17, 1, 15, 1, 8, 13, 15, 1, 8, 6, 4, 18, 15, 1, 2, 1, 18, 11, 15, 15, 16, 17, 4, 5, 17, 7, 4, 0, 2, 8, 10, 16, 3, 14, 11, 1, 14, 7, 15, 16, 7, 14, 16, 5, 4, 12, 5, 14, 15, 6, 6, 10, 4, 11, 1, 17, 2, 7, 6, 1, 16, 12, 12, 1, 5, 9, 5, 15, 16, 11, 13, 13, 4, 7, 16, 0, 10, 17, 11, 14, 5, 15, 2, 4, 8, 8, 5, 1, 13, 6, 2, 19, 6, 16, 6, 7, 3, 12, 7, 3, 14, 17, 19, 2, 9, 19, 3, 18, 4, 13, 10, 11, 8, 18, 8, 3, 0, 4, 2, 0, 16, 9, 11, 0, 0, 5, 5, 3, 9, 1, 3, 1, 12, 9, 16, 8, 4, 7, 9, 12, 14, 18, 12, 3, 12, 8, 0, 3, 2, 9, 5, 5, 1, 9, 6, 10, 4, 15, 8, 3, 12, 1, 0, 6, 4, 6, 9, 8, 8, 3, 13, 19, 11, 19, 17, 10, 18, 18, 4, 2, 6, 6, 5, 16, 18, 16, 0, 3, 16, 4, 0, 13, 10, 8, 4, 8, 1, 6, 19, 14, 10, 6, 14, 6, 15, 16, 12, 5, 11, 14, 19, 14, 9, 2, 10, 13, 19, 9, 13, 9, 19, 11, 9, 3, 11, 1, 6, 4, 4, 12, 10, 16, 2, 3, 4, 14, 4, 0, 8, 15, 3, 14, 5, 1, 11, 19, 13, 6, 14, 17, 8, 5, 6, 0, 16, 8, 12, 6, 11, 18, 16, 10, 10, 3, 19, 15, 0, 6, 6, 4, 12, 9, 18, 8, 15, 19, 9, 6, 6, 18, 8, 14, 16, 10, 7, 5, 3, 10, 4, 2, 5, 13, 17, 2, 8, 13, 3, 18, 12, 11, 7, 9, 10, 16, 3, 11, 14, 3, 7, 19, 13, 12, 12, 17, 11, 14, 17, 4, 2, 6, 5, 6, 4, 9, 8, 8, 8, 16, 3, 8, 3, 2, 2, 10, 13, 16, 3, 3, 12, 7, 10, 11, 15, 14, 6, 3, 14, 15, 16, 9, 8, 17, 2, 16, 3, 10, 5, 15, 11, 15, 8, 0, 2, 2, 6, 14, 10, 8, 2, 0, 6, 10, 13, 15, 19, 18, 14, 8, 9, 5, 13, 11, 3, 5, 0, 0, 15, 18, 15, 2, 2, 5, 13, 9, 1, 9, 14, 14, 8, 15, 0, 11, 7, 15, 16, 3, 3, 15, 6, 5, 3, 15, 16, 9, 7, 13, 18, 6, 8, 10, 12, 13, 1, 9, 8, 12, 10, 2, 15, 8, 7, 8, 12, 3, 0, 14, 18, 6, 0, 11, 3, 18, 3, 3, 0, 14, 8, 1, 5, 14, 9, 12, 19, 17, 11, 12, 0, 7, 17, 16, 19, 12, 6, 8, 11, 9, 17, 8, 18, 15, 1, 6, 7, 18, 7, 13, 11, 11, 1, 11, 13, 15, 18, 11, 13, 5, 7, 12, 7, 15, 8, 16, 14, 0, 13, 18, 9, 3, 4, 17, 1, 0, 6, 13, 15, 9, 16, 9, 17, 3, 14, 5, 15, 16, 19, 8, 17, 18, 12, 6, 3, 9, 8, 10, 4, 16, 12, 15, 5, 5, 6, 16, 16, 4, 13, 16, 13, 5, 11, 6, 18, 4, 4, 9, 1, 6, 16, 5, 0, 2, 14, 10, 11, 9, 6, 13, 4, 15, 13, 13, 6, 19, 18, 14, 3, 2, 15, 11, 5, 8, 10, 15, 14, 8, 0, 2, 15, 14, 17, 19, 13, 17, 19, 14, 15, 1, 17, 15, 9, 14, 6, 10, 19, 8, 16, 14, 8, 12, 15, 2, 15, 18, 17, 13, 1, 0, 10, 16, 16, 4, 5, 10, 0, 10, 5, 0, 8, 18, 4, 18, 12, 2, 8, 17, 15, 19, 10, 15, 6, 6, 1, 12, 10, 4, 7, 17, 6, 6, 14, 1, 11, 11, 6, 17, 16, 1, 9, 10, 13, 1, 11, 15, 17, 13, 14, 8, 16, 8, 6, 13, 3, 2, 11, 13, 7, 12, 9, 13, 3, 4, 3, 10, 0, 9, 4, 15, 7, 5, 12, 8, 10, 13, 13, 6, 1, 7, 5, 15, 3, 9, 16, 18, 4, 16, 3, 10, 0, 12, 3, 9, 15, 16, 2, 5, 8, 4, 19, 5, 13, 6, 13, 3, 8, 18, 18, 10, 7, 17, 15, 5, 16, 11, 3, 2, 3, 16, 5, 17, 2, 10, 17, 5, 12, 11, 3, 5, 13, 13, 0, 7, 12, 5, 17, 15, 1, 7, 18, 18, 3, 16, 14, 17, 10, 15, 14, 2, 8, 3, 16, 6, 10, 10, 2, 3, 15, 3, 11, 17, 0, 10, 8, 16, 16, 2, 14, 3, 15, 11, 11, 8, 12, 5, 7, 12, 11, 4, 3, 8, 11, 2, 18, 15, 5, 4, 17, 19, 1, 2, 7, 1, 12, 1, 15, 13, 10, 8, 13, 16, 19, 12, 9, 11, 4, 0, 14, 11, 5, 14, 10, 13, 0, 4, 12, 14, 5, 0, 14, 17, 15, 6, 7, 12, 10, 18, 7, 9, 1, 15, 13, 9, 2, 15, 3, 14, 5, 7, 18, 8, 17, 16, 7, 1, 3, 9, 8, 3, 14, 15, 8, 6, 7, 14, 8, 6, 5, 9, 3, 1, 16, 15, 3, 14, 17, 17, 8, 3, 8, 8, 2, 10, 14, 14, 9, 6, 0, 0, 5, 11, 8, 14, 11, 15, 7, 8, 10, 5, 7, 9, 17, 9, 6, 16, 10, 5, 11, 14, 13, 17, 12, 14, 10, 15, 10, 3, 19, 13, 4, 3, 16, 14, 10, 3, 6, 17, 2, 18, 8, 6, 0, 18, 6, 12, 13, 19, 6, 5, 18, 6, 15, 15, 8, 17, 15, 12, 0, 8, 17, 3, 18, 17, 12, 12, 0, 11, 2, 10, 8, 5, 1, 4, 4, 14, 17, 6, 6, 16, 19, 6, 2, 5, 18, 11, 15, 3, 16, 11, 5, 11, 15, 12, 0, 19, 0, 12, 19, 12, 8, 2, 2, 4, 10, 18, 16, 2, 10, 15, 19, 15, 9, 14, 4, 2, 6, 1, 5, 10, 18, 4, 5, 2, 1, 14, 19, 12, 0, 6, 11, 0, 7, 6, 5, 2, 12, 16, 3, 2, 10, 3, 16, 8, 1, 15, 6, 2, 4, 16, 13, 17, 11, 4, 7, 13, 11, 12, 4, 17, 10, 6, 19, 9, 17, 16, 18, 15, 14, 2, 12, 2, 12, 17, 7, 16, 11, 4, 7, 12, 6, 15, 11, 17, 16, 1, 3, 8, 4, 6, 3, 7, 3, 13, 16, 0, 3, 2, 11, 11, 2, 8, 0, 2, 14, 3, 0, 11, 3, 15, 11, 12, 8, 18, 6, 12, 8, 1, 2, 3, 17, 19, 15, 10, 9, 16, 18, 5, 11, 18, 19, 3, 0, 11, 3, 2, 3, 7, 18, 5, 5, 6, 19, 3, 18, 7, 16, 12, 1, 2, 5, 4, 1, 15, 10, 10, 9, 15, 6, 16, 3, 4, 10, 12, 16, 6, 4, 8, 4, 4, 9, 16, 9, 19, 1, 9, 11, 15, 5, 8, 8, 7, 11, 0, 16, 19, 1, 0, 14, 8, 7, 12, 19, 10, 6, 5, 15, 0, 3, 13, 1, 0, 15, 19, 9, 18, 14, 13, 2, 2, 12, 11, 4, 3, 15, 5, 11, 11, 6, 1, 7, 1, 4, 18, 6, 8, 9, 12, 16, 9, 6, 12, 8, 16, 16, 7, 6, 2, 15, 16, 1, 18, 15, 7, 16, 9, 11, 12, 18, 3, 8, 4, 1, 17, 16, 5, 17, 17, 8, 6, 13, 17, 18, 13, 18, 6, 19, 9, 2, 15, 19, 2, 2, 14, 13, 17, 18, 6, 15, 15, 11, 10, 11, 16, 15, 9, 1, 6, 5, 10, 10, 6, 0, 5, 9, 3, 4, 15, 18, 2, 15, 8, 6, 7, 9, 1, 12, 7, 18, 5, 15, 15, 6, 14, 2, 19, 7, 8, 10, 8, 5, 18, 6, 1, 2, 8, 6, 10, 13, 17, 17, 4, 4, 4, 16, 6, 9, 19, 3, 1, 2, 7, 18, 18, 15, 9, 6, 5, 13, 1, 7, 10, 10, 9, 7, 14, 6, 5, 2, 1, 12, 6, 2, 15, 15, 10, 3, 3, 15, 10, 2, 1, 15, 11, 10, 11, 9, 9, 16, 13, 3, 9, 1, 13, 2, 0, 3, 17, 9, 12, 4, 1, 13, 4, 14, 3, 5, 1, 1, 4, 16, 7, 1, 2, 16, 15, 8, 11, 18, 15, 5, 4, 17, 14, 10, 5, 12, 6, 3, 13, 1, 6, 14, 13, 19, 17, 5, 8, 10, 17, 15, 15, 2, 15, 1, 8, 6, 0, 3, 2, 6, 9, 9, 6, 5, 3, 7, 9, 1, 7, 0, 10, 0, 6, 14, 1, 3, 15, 13, 8, 3, 1, 8, 5, 15, 9, 4, 3, 3, 14, 6, 5, 0, 11, 6, 14, 8, 17, 6, 18, 0, 12, 6, 12, 7, 13, 17, 14, 15, 5, 8, 5, 11, 0, 1, 6, 4, 8, 9, 16, 17, 1, 2, 11, 18, 10, 6, 2, 1, 15, 13, 0, 4, 16, 1, 0, 13, 14, 9, 5, 4, 15, 11, 4, 9, 17, 12, 9, 15, 3, 13, 15, 2, 3, 13, 5, 9, 9, 19, 5, 5, 15, 10, 0, 7, 4, 1, 3, 8, 7, 12, 3, 9, 17, 3, 18, 13, 7, 18, 7, 0, 14, 15, 4, 2, 6, 8, 19, 4, 14, 14, 11, 18, 10, 12, 8, 13, 17, 9, 5, 12, 11, 9, 1, 9, 12, 17, 16, 11, 13, 6, 13, 0, 3, 6, 19, 5, 18, 15, 15, 7, 12, 11, 19, 8, 17, 12, 10, 1, 16, 3, 6, 3, 11, 3, 7, 3, 7, 8, 6, 1, 15, 19, 17, 15, 18, 5, 9, 3, 2, 16, 16, 19, 16, 18, 11, 7, 15, 3, 16, 12, 13, 18, 2, 10, 14, 19, 3, 14, 17, 11, 8, 7, 12, 16, 0, 15, 13, 16, 11, 6, 9, 6, 14, 3, 13, 15, 8, 11, 13, 15, 15, 3, 3, 0, 8, 0, 6, 0, 11, 9, 16, 11, 6, 4, 16, 19, 16, 18, 18, 6, 9, 18, 3, 16, 3, 5, 6, 1, 12, 17, 8, 5, 12, 3, 6, 3, 5, 10, 18, 0, 0, 15, 2, 8, 18, 15, 4, 4, 15, 14, 6, 0, 11, 7, 13, 8, 7, 2, 19, 3, 17, 2, 2, 18, 5, 1, 17, 6, 13, 10, 8, 15, 18, 15, 19, 19, 9, 0, 13, 11, 6, 4, 5, 15, 3, 0, 8, 11, 6, 19, 15, 3, 0, 3, 2, 3, 5, 5, 6, 14, 16, 11, 9, 19, 11, 0, 5, 8, 3, 15, 8, 1, 5, 7, 9, 10, 6, 13, 14, 8, 14, 18, 2, 15, 8, 7, 11, 17, 4, 3, 16, 13, 9, 4, 6, 7, 2, 1, 15, 5, 1, 11, 13, 4, 17, 11, 9, 15, 6, 13, 2, 11, 4, 5, 15, 5, 15, 17, 11, 3, 1, 12, 17, 4, 6, 10, 5, 9, 4, 1, 10, 9, 14, 6, 13, 15, 7, 6, 12, 1, 17, 7, 19, 9, 4, 16, 18, 16, 15, 6, 2, 0, 3, 18, 5, 17, 8, 8, 6, 6, 4, 4, 5, 13, 14, 3, 11, 16, 4, 5, 15, 1, 14, 8, 8, 7, 17, 3, 17, 10, 10, 16, 2, 1, 9, 16, 8, 19, 3, 6, 3, 16, 18, 1, 12, 8, 6, 16, 10, 12, 19, 2, 15, 8, 11, 5, 11, 4, 16, 0, 6, 2, 5, 15, 3, 5, 0, 8, 2, 19, 4, 5, 16, 6, 9, 17, 13, 8, 6, 12, 2, 10, 2, 12, 9, 15, 8, 13, 14, 8, 2, 18, 3, 5, 13, 10, 4, 8, 12, 11, 14, 0, 13, 3, 4, 8, 2, 15, 18, 15, 7, 6, 10, 19, 17, 13, 18, 10, 11, 13, 4, 3, 5, 13, 4, 14, 6, 18, 11, 0, 10, 7, 3, 8, 16, 8, 7, 4, 11, 9, 15, 7, 10, 13, 9, 15, 8, 9, 4, 6, 15, 9, 7, 2, 7, 7, 10, 16, 3, 11, 5, 9, 11, 17, 15, 4, 7, 12, 16, 11, 7, 5, 8, 2, 12, 7, 13, 17, 0, 16, 10, 9, 9, 3, 7, 2, 5, 12, 10, 15, 9, 1, 1, 7, 10, 12, 13, 13, 13, 1, 12, 8, 18, 7, 3, 18, 8, 7, 5, 17, 3, 18, 7, 9, 9, 7, 19, 6, 17, 7, 19, 8, 0, 11, 0, 1, 9, 14, 0, 12, 6, 1, 16, 13, 15, 2, 13, 9, 8, 6, 17, 15, 6, 15, 11, 17, 6, 6, 15, 15, 7, 4, 8, 7, 6, 8, 12, 1, 13, 13, 2, 5, 4, 18, 15, 12, 8, 6, 7, 11, 3, 3, 17, 18, 9, 16, 14, 0, 12, 8, 3, 18, 6, 19, 14, 19, 17, 2, 6, 15, 7, 9, 6, 15, 4, 7, 4, 2, 17, 12, 19, 14, 5, 2, 5, 0, 7, 14, 8, 2, 7, 15, 11, 1, 12, 9, 12, 6, 15, 15, 5, 0, 9, 3, 6, 16, 7, 17, 14, 10, 17, 13, 6, 19, 17, 10, 15, 11, 1, 1, 3, 16, 14, 3, 8, 15, 3, 6, 6, 1, 10, 6, 10, 14, 10, 8, 1, 8, 16, 8, 1, 1, 13, 19, 12, 7, 12, 16, 6, 6, 19, 8, 3, 7, 7, 8, 1, 2, 12, 10, 11, 9, 13, 18, 3, 1, 14, 0, 0, 1, 0, 17, 10, 11, 6, 10, 17, 16, 0, 6, 8, 1, 14, 16, 14, 7, 5, 12, 2, 15, 9, 12, 4, 17, 7, 4, 2, 0, 10, 8, 14, 6, 10, 5, 6, 19, 11, 17, 19, 13, 9, 7, 4, 4, 8, 7, 18, 13, 12, 6, 9, 1, 9, 9, 12, 19, 2, 2, 9, 16, 15, 7, 10, 14, 1, 8, 15, 12, 7, 15, 14, 10, 3, 16, 1, 15, 15, 15, 14, 7, 3, 6, 17, 15, 8, 12, 6, 13, 8, 14, 14, 5, 2, 11, 10, 6, 5, 9, 5, 13, 10, 17, 7, 2, 9, 3, 4, 2, 8, 2, 10, 16, 12, 19, 18, 13, 2, 4, 18, 10, 13, 3, 9, 16, 9, 11, 17, 12, 11, 4, 6, 8, 6, 16, 15, 8, 3, 12, 2, 0, 17, 2, 19, 0, 14, 2, 9, 13, 14, 7, 13, 19, 12, 0, 2, 12, 9, 3, 11, 9, 17, 7, 8, 4, 17, 19, 7, 5, 16, 3, 4, 15, 6, 6, 2, 6, 6, 4, 14, 16, 8, 1, 9, 8, 10, 4, 17, 13, 17, 8, 13, 12, 7, 0, 15, 2, 18, 18, 3, 16, 2, 16, 7, 18, 3, 19, 16, 6, 14, 11, 7, 15, 6, 3, 2, 16, 2, 1, 1, 18, 16, 0, 15, 1, 6, 1, 12, 10, 10, 18, 11, 10, 0, 11, 3, 4, 14, 17, 19, 9, 4, 9, 15, 11, 16, 18, 10, 16, 15, 17, 2, 7, 9, 9, 9, 0, 8, 17, 18, 7, 1, 6, 4, 5, 3, 4, 17, 16, 12, 15, 13, 6, 8, 5, 18, 12, 18, 17, 2, 14, 3, 19, 13, 18, 16, 10, 2, 0, 11, 4, 18, 16, 11, 6, 2, 3, 13, 5, 3, 7, 0, 17, 15, 16, 13, 16, 2, 15, 16, 4, 1, 0, 1, 19, 13, 6, 4, 7, 3, 19, 15, 5, 1, 2, 4, 7, 4, 8, 8, 9, 1, 0, 14, 4, 6, 2, 16, 9, 10, 9, 13, 15, 12, 10, 13, 12, 10, 2, 16, 13, 17, 14, 1, 6, 15, 5, 7, 5, 14, 13, 3, 2, 15, 17, 13, 16, 13, 8, 12, 6, 7, 3, 18, 4, 10, 15, 11, 7, 12, 9, 11, 6, 10, 12, 14, 10, 9, 4, 17, 2, 8, 14, 11, 1, 18, 0, 15, 6, 10, 14, 4, 6, 5, 14, 16, 0, 17, 8, 7, 18, 15, 2, 4, 5, 12, 5, 1, 11, 19, 13, 8, 0, 19, 8, 4, 13, 2, 0, 3, 6, 10, 3, 14, 9, 13, 15, 7, 9, 8, 17, 8, 1, 3, 7, 6, 13, 10, 5, 5, 17, 12, 9, 6, 18, 5, 13, 4, 17, 17, 5, 14, 5, 1, 7, 1, 17, 10, 8, 0, 13, 15, 8, 2, 8, 5, 10, 9, 8, 6, 14, 7, 11, 2, 6, 12, 9, 10, 16, 1, 11, 2, 8, 17, 2, 3, 9, 3, 10, 19, 0, 1, 1, 5, 6, 10, 10, 13, 14, 11, 12, 14, 19, 2, 0, 11, 12, 4, 12, 12, 5, 12, 14, 3, 14, 3, 14, 7, 19, 19, 12, 19, 10, 11, 16, 19, 15, 19, 4, 15, 5, 15, 5, 6, 3, 17, 11, 9, 10, 9, 11, 18, 11, 16, 7, 9, 16, 15, 18, 0, 18, 8, 14, 0, 9, 12, 2, 15, 9, 19, 8, 1, 10, 19, 1, 15, 15, 0, 3, 13, 15, 1, 4, 0, 17, 17, 11, 10, 14, 11, 13, 7, 13, 5, 9, 11, 12, 0, 10, 14, 3, 4, 9, 6, 6, 1, 9, 9, 12, 10, 0, 5, 19, 14, 14, 12, 16, 4, 15, 4, 2, 15, 1, 16, 2, 4, 6, 3, 10, 2, 2, 1, 17, 4, 9, 1, 6, 17, 7, 7, 3, 15, 18, 0, 2, 10, 0, 16, 6, 17, 14, 4, 8, 5, 15, 12, 15, 6, 17, 7, 15, 8, 2, 8, 2, 5, 3, 7, 0, 8, 13, 16, 10, 11, 16, 15, 1, 4, 9, 13, 14, 2, 13, 9, 16, 16, 2, 4, 15, 15, 11, 5, 6, 19, 6, 6, 18, 10, 12, 17, 11, 8, 10, 10, 9, 5, 11, 19, 8, 17, 7, 11, 14, 0, 7, 1, 16, 16, 15, 14, 3, 3, 9, 15, 9, 6, 18, 13, 8, 11, 16, 4, 16, 11, 4, 9, 15, 3, 0, 4, 6, 2, 16, 9, 9, 17, 18, 9, 9, 3, 7, 5, 12, 19, 12, 14, 9, 19, 11, 3, 7, 15, 6, 11, 12, 11, 16, 14, 9, 7, 13, 16, 6, 10, 0, 12, 16, 16, 15, 14, 11, 7, 1, 8, 9, 9, 7, 1, 10, 14, 3, 13, 1, 11, 12, 3, 9, 6, 11, 17, 9, 5, 19, 6, 18, 0, 14, 16, 17, 1, 3, 4, 1, 15, 6, 11, 6, 17, 9, 1, 8, 9, 6, 17, 14, 4, 7, 6, 3, 3, 10, 6, 15, 9, 6, 10, 9, 12, 13, 11, 18, 0, 8, 5, 3, 14, 15, 5, 3, 10, 7, 14, 15, 16, 0, 2, 12, 6, 18, 12, 14, 7, 3, 2, 16, 16, 16, 11, 12, 13, 6, 13, 3, 18, 18, 9, 14, 12, 9, 3, 15]\n",
            "[[239   2   0   3   0   1   1   1   1   2   0   2   0   4   7  31   2   2\n",
            "    0  21]\n",
            " [  2 245  34  12   7  33  19   0   1   2   0   8  11   5   2   5   2   0\n",
            "    0   1]\n",
            " [  2  23 232  50   7  17  20   1   0   2   1   6   8   3   3   5   1   1\n",
            "   10   2]\n",
            " [  0   9  44 262  27   5  24   0   0   0   0   0  20   0   1   0   0   0\n",
            "    0   0]\n",
            " [  0   8  17  26 276   4  23   1   1   2   0   2  13   4   1   3   2   0\n",
            "    2   0]\n",
            " [  1  22  29  14   2 283  12   3   6   1   1   2   8   4   4   1   0   1\n",
            "    1   0]\n",
            " [  1   4   8  33  12   1 270  14  14   3   5   0  10   4   2   4   2   1\n",
            "    1   1]\n",
            " [  0   4   4   9   5   1  23 315   7   2   2   0  11   2   3   1   6   0\n",
            "    1   0]\n",
            " [  0   0   2   2   3   4   6  19 340   3   1   2   3   3   0   3   0   1\n",
            "    4   2]\n",
            " [  1   2   3   3   2   0   9   1   2 354   7   0   3   3   0   5   0   0\n",
            "    2   0]\n",
            " [  2   2   3   3   0   0   1   0   2   5 372   0   2   1   1   1   0   2\n",
            "    2   0]\n",
            " [  1   3   4   3   2   4   3   3   2   2   0 349   3   3   0   1   8   0\n",
            "    5   0]\n",
            " [  0   7  19  28   7   3  27   9   4   4   0   7 263   4   1   2   3   0\n",
            "    4   1]\n",
            " [  2   5   9   7   3   2  15   3   4   4   1   1  10 295   2  11   3   2\n",
            "   13   4]\n",
            " [  4  11   2   5   4   4   6   1   0   0   1   2  11   5 325   3   4   0\n",
            "    6   0]\n",
            " [  6   2   3   2   1   1   2   0   0   2   0   0   0   2   1 359   1   0\n",
            "    2  14]\n",
            " [  1   1   1   2   1   4   3   0   0   1   0   5   1   4   1   1 310   0\n",
            "   18  10]\n",
            " [  8   3   2   0   0   0   0   2   0   1   0   1   0   2   0  19   3 327\n",
            "    8   0]\n",
            " [ 16   2   0   1   1   1   3   1   1   2   1   5   0  10   4   7  57   0\n",
            "  181  17]\n",
            " [ 25   1   1   0   0   0   1   1   0   1   0   4   0   3   4  32   8   0\n",
            "    5 165]]\n"
          ]
        },
        {
          "output_type": "display_data",
          "data": {
            "image/png": "[encoded data removed]",
            "text/plain": [
              "<Figure size 432x288 with 2 Axes>"
            ]
          },
          "metadata": {
            "needs_background": "light"
          }
        }
      ]
    }
  ]
}